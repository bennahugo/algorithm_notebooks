{
 "cells": [
  {
   "cell_type": "markdown",
   "metadata": {},
   "source": [
    "The motivation for this python notebook is to test the Taylor expansion of the classical MSMF versus the basis decomposition done in DDFacet."
   ]
  },
  {
   "cell_type": "markdown",
   "metadata": {},
   "source": [
    "## Source simulation"
   ]
  },
  {
   "cell_type": "code",
   "execution_count": 116,
   "metadata": {
    "collapsed": false
   },
   "outputs": [
    {
     "data": {
      "text/plain": [
       "[<matplotlib.lines.Line2D at 0x123592bd0>]"
      ]
     },
     "execution_count": 116,
     "metadata": {},
     "output_type": "execute_result"
    },
    {
     "data": {
      "image/png": "[encoded data removed]",
      "text/plain": [
       "<matplotlib.figure.Figure at 0x1225ec990>"
      ]
     },
     "metadata": {},
     "output_type": "display_data"
    }
   ],
   "source": [
    "import numpy as np\n",
    "import scipy.constants as sc\n",
    "import scipy.interpolate as si\n",
    "import matplotlib.pyplot as plt\n",
    "%matplotlib inline\n",
    "\n",
    "alpha=-0.7   # Spectral Index\n",
    "beta=-0.0933   # Spectral Curvature\n",
    "I0=1.\n",
    "nu0=1e9\n",
    "lambda0=sc.c/nu0\n",
    "\n",
    "\n",
    "Nfreq=1000\n",
    "\n",
    "freqstart=8\n",
    "freqend=12\n",
    "\n",
    "freq=np.logspace(freqstart,freqend,Nfreq)\n",
    "\n",
    "spectrum=I0*(freq/nu0)**(alpha)\n",
    "spectrum2=I0*(freq/nu0)**(alpha+beta*np.log10(freq/nu0))\n",
    "\n",
    "plt.loglog(freq,spectrum,\".\",ms=0.5)\n",
    "plt.loglog(freq,spectrum2,\".\",ms=0.5)\n"
   ]
  },
  {
   "cell_type": "code",
   "execution_count": 117,
   "metadata": {
    "collapsed": false
   },
   "outputs": [
    {
     "data": {
      "text/plain": [
       "[<matplotlib.lines.Line2D at 0x123c7c190>]"
      ]
     },
     "execution_count": 117,
     "metadata": {},
     "output_type": "execute_result"
    },
    {
     "data": {
      "image/png": "[encoded data removed]",
      "text/plain": [
       "<matplotlib.figure.Figure at 0x123263690>"
      ]
     },
     "metadata": {},
     "output_type": "display_data"
    }
   ],
   "source": [
    "# prepare some samples of spectrum\n",
    "Nsamples=20\n",
    "\n",
    "randomindices=(np.random.rand(Nsamples)*1000).astype(int)\n",
    "randomindices\n",
    "sampledfreq=freq[randomindices]\n",
    "sampledspectrum=spectrum[randomindices]\n",
    "sampledspectrum2=spectrum2[randomindices]\n",
    "\n",
    "plt.loglog(freq,spectrum,\"r--\",ms=0.5)\n",
    "plt.loglog(sampledfreq,sampledspectrum,\"r.\",ms=10)\n",
    "plt.loglog(freq,spectrum2,\"g--\",ms=0.5)\n",
    "plt.loglog(sampledfreq,sampledspectrum2,\"g.\",ms=10)\n"
   ]
  },
  {
   "cell_type": "markdown",
   "metadata": {},
   "source": [
    "## Polynomial fit"
   ]
  },
  {
   "cell_type": "code",
   "execution_count": 127,
   "metadata": {
    "collapsed": false
   },
   "outputs": [
    {
     "name": "stdout",
     "output_type": "stream",
     "text": [
      "Alpha = -0.7\n"
     ]
    }
   ],
   "source": [
    "coefs = np.polynomial.polynomial.polyfit(np.log10(freq/nu0), np.log10(spectrum), 2)\n",
    "print \"Alpha = \"+str(coefs[1])"
   ]
  },
  {
   "cell_type": "code",
   "execution_count": 128,
   "metadata": {
    "collapsed": false
   },
   "outputs": [
    {
     "name": "stdout",
     "output_type": "stream",
     "text": [
      "Alpha = -0.7\n",
      "Beta = -0.0933\n"
     ]
    }
   ],
   "source": [
    "coefs2 = np.polynomial.polynomial.polyfit(np.log10(freq/nu0), np.log10(spectrum2), 2)\n",
    "print \"Alpha = \"+str(coefs2[1])\n",
    "print \"Beta = \"+str(coefs2[2])"
   ]
  },
  {
   "cell_type": "markdown",
   "metadata": {},
   "source": [
    "## Cyril Expansion"
   ]
  },
  {
   "cell_type": "code",
   "execution_count": null,
   "metadata": {
    "collapsed": false
   },
   "outputs": [],
   "source": []
  },
  {
   "cell_type": "code",
   "execution_count": null,
   "metadata": {
    "collapsed": true
   },
   "outputs": [],
   "source": []
  }
 ],
 "metadata": {
  "kernelspec": {
   "display_name": "Python 2",
   "language": "python",
   "name": "python2"
  },
  "language_info": {
   "codemirror_mode": {
    "name": "ipython",
    "version": 2
   },
   "file_extension": ".py",
   "mimetype": "text/x-python",
   "name": "python",
   "nbconvert_exporter": "python",
   "pygments_lexer": "ipython2",
   "version": "2.7.11"
  }
 },
 "nbformat": 4,
 "nbformat_minor": 0
}
