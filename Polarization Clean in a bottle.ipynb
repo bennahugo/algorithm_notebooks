{
 "cells": [
  {
   "cell_type": "markdown",
   "metadata": {},
   "source": [
    "# Polarization CLEAN in a bottle\n",
    "______________________________________________________________________________\n",
    "\n",
    "Algorithm: Pratley, Luke and Johnston-Hollit Melanie, An improved method for \n",
    "polarimetric image restoration in interferometry, 2016\n",
    "\n",
    "Implementation (C) B Hugo, SKA-SA\n",
    "\n",
    "Credit: L Bester's Hogbom CLEAN implementation, SKA-SA\n",
    "______________________________________________________________________________"
   ]
  },
  {
   "cell_type": "code",
   "execution_count": null,
   "metadata": {
    "collapsed": false
   },
   "outputs": [],
   "source": [
    "from numpy import *\n",
    "import numpy as np\n",
    "import matplotlib.pyplot as plt\n",
    "from pyrap.tables import table as tbl\n",
    "import scipy.signal\n",
    "import time\n",
    "from IPython.display import clear_output\n",
    "from IPython.html.widgets import FloatProgress\n",
    "from IPython.display import display\n",
    "from mpl_toolkits.axes_grid1 import AxesGrid\n",
    "from scipy import optimize as opt\n",
    "from mpl_toolkits.axes_grid1 import ImageGrid\n",
    "%matplotlib inline"
   ]
  },
  {
   "cell_type": "code",
   "execution_count": null,
   "metadata": {
    "collapsed": true
   },
   "outputs": [],
   "source": [
    "#(C) Landman Bester\n",
    "def twoD_Gaussian((x, y), amplitude, xo, yo, sigma_x, sigma_y, theta, offset):\n",
    "    xo = float(xo)\n",
    "    yo = float(yo)\n",
    "    a = (cos(theta)**2)/(2*sigma_x**2) + (sin(theta)**2)/(2*sigma_y**2)\n",
    "    b = -(sin(2*theta))/(4*sigma_x**2) + (sin(2*theta))/(4*sigma_y**2)\n",
    "    c = (sin(theta)**2)/(2*sigma_x**2) + (cos(theta)**2)/(2*sigma_y**2)\n",
    "    g = offset + amplitude*exp( - (a*((x-xo)**2) + 2*b*(x-xo)*(y-yo) + c*((y-yo)**2)))\n",
    "    return g.flatten()\n",
    "\n",
    "#(C) Landman Bester\n",
    "def fit_2D_Gaussian(PSF):\n",
    "    \"\"\"\n",
    "    Fit an elliptical Gaussian to the primary lobe of the PSF\n",
    "    \"\"\"\n",
    "    #Get the full width at half maximum height of the PSF\n",
    "    I = argwhere(PSF>=0.5*PSF.max())\n",
    "    #Create an array with these values at the same indices and zeros otherwise\n",
    "    lk,mk = PSF.shape\n",
    "    psf_fit = zeros([lk,mk])\n",
    "    psf_fit[I[:,0],I[:,1]] = PSF[I[:,0],I[:,1]]\n",
    "    # Create x and y indices\n",
    "    x = linspace(0, PSF.shape[0]-1, PSF.shape[0])\n",
    "    y = linspace(0, PSF.shape[1]-1, PSF.shape[1])\n",
    "    x, y = meshgrid(x, y)\n",
    "    # Set starting point of optimiser\n",
    "    initial_guess = (0.5,lk/2,mk/2,1.75,1.4,-4.0,0)\n",
    "    #Flatten the data\n",
    "    data = psf_fit.ravel()\n",
    "    #Fit the function (Gaussian for now)\n",
    "    popt, pcov = opt.curve_fit(twoD_Gaussian, (x, y), data, p0=initial_guess)\n",
    "    #Get function with fitted params\n",
    "    data_fitted = twoD_Gaussian((x, y), *popt)\n",
    "    #Normalise the psf to have a max value of one\n",
    "    data_fitted = data_fitted/data_fitted.max()\n",
    "    return data_fitted.reshape(lk,mk)\n"
   ]
  },
  {
   "cell_type": "code",
   "execution_count": null,
   "metadata": {
    "collapsed": false
   },
   "outputs": [],
   "source": [
    "def find_peak(Iresidue,Qresidue,Uresidue,Vresidue,mode=\"I\"):\n",
    "    \"\"\"\n",
    "    Finds peak in image or combination of images depending on mode\n",
    "    Q+iU: Luke Pratley's joint linear (P) polarization clean\n",
    "    I: Intensity only\n",
    "    \"\"\"\n",
    "    if mode == \"Q+iU\":\n",
    "        values_map = Qresidue + Uresidue*1.0j\n",
    "        peakmap = (np.abs(values_map))**2\n",
    "        p,q = (argwhere(peakmap==peakmap.max())[0]).squeeze()\n",
    "        pmin,qmin = (argwhere(peakmap==peakmap.min())[0]).squeeze()\n",
    "        Istar = values_map[p,q] #in Q and U the values may be negative or positive\n",
    "    elif mode == \"Q\":\n",
    "        peakmap = abs(Qresidue)\n",
    "        p,q = (argwhere(peakmap==peakmap.max())[0]).squeeze()\n",
    "        pmin,qmin = (argwhere(peakmap==peakmap.min())[0]).squeeze()\n",
    "        Istar = Qresidue[p,q]\n",
    "    elif mode == \"U\":\n",
    "        peakmap = abs(Uresidue)\n",
    "        p,q = (argwhere(peakmap==peakmap.max())[0]).squeeze()\n",
    "        pmin,qmin = (argwhere(peakmap==peakmap.min())[0]).squeeze()\n",
    "        Istar = Uresidue[p,q]\n",
    "    elif mode == \"V\":\n",
    "        peakmap = abs(Vresidue)\n",
    "        p,q = (argwhere(peakmap==peakmap.max())[0]).squeeze()\n",
    "        pmin,qmin = (argwhere(peakmap==peakmap.min())[0]).squeeze()\n",
    "        Istar = Vresidue[p,q]\n",
    "    elif mode == \"I\":\n",
    "        peakmap = Iresidue\n",
    "        p,q = (argwhere(peakmap==peakmap.max())[0]).squeeze()\n",
    "        pmin,qmin = (argwhere(peakmap==peakmap.min())[0]).squeeze()\n",
    "        Istar = Iresidue[p,q]\n",
    "    else:\n",
    "        raise ValueError(\"Peakfinding only works for mode one of [Q+iU, I]\")\n",
    "    return p,q,pmin,qmin,Istar\n",
    "\n",
    "def build_cleanmap(ICLEAN,QCLEAN,UCLEAN,VCLEAN,Istar,gamma,p,q,mode=\"I\"):\n",
    "    if mode == \"Q+iU\":\n",
    "        QCLEAN[p,q] += Istar.real*gamma\n",
    "        UCLEAN[p,q] += Istar.imag*gamma\n",
    "    elif mode == \"Q\":\n",
    "        QCLEAN[p,q] += Istar*gamma\n",
    "    elif mode == \"U\":\n",
    "        UCLEAN[p,q] += Istar*gamma\n",
    "    elif mode == \"V\":\n",
    "        VCLEAN[p,q] += Istar*gamma\n",
    "    elif mode == \"I\":\n",
    "        ICLEAN[p,q] += Istar*gamma\n",
    "    else:\n",
    "        raise ValueError(\"Cleanmap building only works for mode one of [Q+iU, I]\")\n",
    "        \n",
    "def update_residual(Iresidue,Qresidue,Uresidue,Vresidue,Istar,gamma,p,q,PSF,mode=\"I\"):\n",
    "    if mode == \"Q+iU\":\n",
    "        npix = Iresidue.shape[0] #Assuming square image\n",
    "        Qresidue -= gamma*Istar.real*PSF[npix - p:2*npix - p,\n",
    "                                         npix - q:2*npix - q] \n",
    "        Uresidue -= gamma*Istar.imag*PSF[npix - p:2*npix - p,\n",
    "                                         npix - q:2*npix - q]\n",
    "    elif mode == \"Q\":\n",
    "        npix = Iresidue.shape[0] #Assuming square image\n",
    "        Qresidue -= gamma*Istar*PSF[npix - p:2*npix - p,\n",
    "                                    npix - q:2*npix - q] \n",
    "    elif mode == \"U\":\n",
    "        npix = Iresidue.shape[0] #Assuming square image\n",
    "        Uresidue -= gamma*Istar*PSF[npix - p:2*npix - p,\n",
    "                                    npix - q:2*npix - q] \n",
    "    elif mode == \"V\":\n",
    "        npix = Iresidue.shape[0] #Assuming square image\n",
    "        Vresidue -= gamma*Istar*PSF[npix - p:2*npix - p,\n",
    "                                    npix - q:2*npix - q] \n",
    "    elif mode == \"I\":\n",
    "        npix = Iresidue.shape[0] #Assuming square image\n",
    "        Iresidue -= gamma*Istar*PSF[npix - p:2*npix - p,\n",
    "                                    npix - q:2*npix - q] \n",
    "    else:\n",
    "        raise ValueError(\"Residual subtraction only works for mode one of [Q+iU, I]\")\n",
    "        \n",
    "def convolve_model(CLEAN_BEAM,ICLEAN,QCLEAN,UCLEAN,VCLEAN,mode):\n",
    "    ICONV_MODEL = np.zeros(ICLEAN.shape)\n",
    "    QCONV_MODEL = np.zeros(ICLEAN.shape)\n",
    "    UCONV_MODEL = np.zeros(ICLEAN.shape)\n",
    "    VCONV_MODEL = np.zeros(ICLEAN.shape)\n",
    "    if mode == \"Q+iU\":\n",
    "        QCONV_MODEL[:,:] = scipy.signal.fftconvolve(QCLEAN,CLEAN_BEAM,mode='same') #, cval=0.0) #Fast using fft\n",
    "        UCONV_MODEL[:,:] = scipy.signal.fftconvolve(UCLEAN,CLEAN_BEAM,mode='same') #, cval=0.0) #Fast using fft\n",
    "    elif mode == \"Q\":\n",
    "        QCONV_MODEL[:,:] = scipy.signal.fftconvolve(QCLEAN,CLEAN_BEAM,mode='same') #, cval=0.0) #Fast using fft\n",
    "    elif mode == \"U\":\n",
    "        UCONV_MODEL[:,:] = scipy.signal.fftconvolve(UCLEAN,CLEAN_BEAM,mode='same') #, cval=0.0) #Fast using fft\n",
    "    elif mode == \"V\":\n",
    "        VCONV_MODEL[:,:] = scipy.signal.fftconvolve(VCLEAN,CLEAN_BEAM,mode='same') #, cval=0.0) #Fast using fft\n",
    "    elif mode == \"I\":\n",
    "        ICONV_MODEL[:,:] = scipy.signal.fftconvolve(ICLEAN,CLEAN_BEAM,mode='same') #, cval=0.0) #Fast using fft\n",
    "    else:\n",
    "        raise ValueError(\"Convolve model only works for mode one of [Q+iU, I]\")\n",
    "    return ICONV_MODEL, QCONV_MODEL, UCONV_MODEL, VCONV_MODEL\n",
    "\n",
    "def CLEAN_HOG(IDIRTY,QDIRTY,UDIRTY,VDIRTY,\n",
    "              PSF,gamma = 0.1,threshold = \"Default\", niter = \"Default\", \n",
    "              plot_on=True, mode=\"I\"):\n",
    "    \"\"\"\n",
    "    This is a simple Hogbom CLEAN assuming a full cleaning window\n",
    "    Input: IDirty = the dirty image to be cleaned\n",
    "    PSF = the point spread function\n",
    "    gamma = the gain factor (must be less than one)\n",
    "    theshold = the threshold to clean up to\n",
    "    niter = the maximum number of iterations allowed\n",
    "    Output: ICLEAN = Clean model, IRESIDUAL = Residuals, \n",
    "            IRESTORE = Restored map, ICONV_CLEAN = Clean model convolved with clean beam\n",
    "    \n",
    "    \"\"\"\n",
    "    #deep copy dirties to first residues, want to keep the original dirty maps\n",
    "    ID = np.copy(IDIRTY)\n",
    "    QD = np.copy(QDIRTY) \n",
    "    UD = np.copy(UDIRTY) \n",
    "    VD = np.copy(VDIRTY) \n",
    "    #Check that all the dirty maps have the same shape\n",
    "    if (ID.shape[0] != QD.shape[0] or QD.shape[0] != UD.shape[0] or UD.shape[0] != VD.shape[0] or\n",
    "        ID.shape[1] != QD.shape[1] or QD.shape[1] != UD.shape[1] or UD.shape[1] != VD.shape[1]):\n",
    "            raise ValueError(\"Polarized dirties must have the same shape\")\n",
    "    #Check that PSF is twice the size of ID\n",
    "    if PSF.shape[0] != 2*ID.shape[0] or PSF.shape[1] != 2*ID.shape[1]:\n",
    "        raise ValueError(\"Warning PSF not right size\")\n",
    "    #Initialise array to store cleaned image\n",
    "    ICLEAN = zeros([npix,npix])\n",
    "    QCLEAN = zeros([npix,npix])\n",
    "    UCLEAN = zeros([npix,npix])\n",
    "    VCLEAN = zeros([npix,npix])\n",
    "\n",
    "    if niter == \"Default\":\n",
    "        niter = 3*npix\n",
    "\n",
    "    p,q,pmin,qmin,Istar = find_peak(ID,QD,UD,VD,mode)\n",
    "    if threshold==\"Default\":\n",
    "        threshold = 0.2*np.abs(Istar) #Imin + 0.001*(Istar - Imin)\n",
    "        print \"Threshold set at \", threshold\n",
    "    else:\n",
    "        print \"Assuming user set threshold\"\n",
    "\n",
    "    #CLEAN the image\n",
    "    i = 0 #counter index\n",
    "    pbar_clean = FloatProgress(min=0, max=100)\n",
    "    display(pbar_clean)\n",
    "\n",
    "    while np.abs(Istar) > threshold and i <= niter:\n",
    "        #First we set the\n",
    "        build_cleanmap(ICLEAN,QCLEAN,UCLEAN,VCLEAN,Istar,gamma,p,q,mode)\n",
    "        #Subtract out pixel\n",
    "        update_residual(ID,QD,UD,VD,Istar,gamma,p,q,PSF,mode)\n",
    "        #Get new indices where ID is max\n",
    "        p,q,_,_,Istar = find_peak(ID,QD,UD,VD,mode)\n",
    "        #Increment counter\n",
    "        i += 1\n",
    "        #Warn if niter exceeded\n",
    "        if i > niter:\n",
    "            print \"Warning: number of iterations exceeded\"\n",
    "            print \"Minimum ID = \", ID.max()\n",
    "        pbar_clean.value = i / float(niter) * 100.0\n",
    "    pbar_clean.value = 100 # done\n",
    "    print \"Done cleaning for mode %s after %d iterations. Now restoring...\" % (mode,i)\n",
    "    #get the ideal beam (fit 2D Gaussian to HWFH of PSF)\n",
    "    CLEAN_BEAM = fit_2D_Gaussian(PSF)\n",
    "    \n",
    "    #Now convolve ICLEAN with ideal beam\n",
    "    ICONV_MODEL, QCONV_MODEL, UCONV_MODEL, VCONV_MODEL = convolve_model(CLEAN_BEAM, ICLEAN, QCLEAN, UCLEAN, VCLEAN, mode)\n",
    "    \n",
    "    #Finally we add the residuals back to the image\n",
    "    IRESIDUE = ID\n",
    "    QRESIDUE = QD\n",
    "    URESIDUE = UD\n",
    "    VRESIDUE = VD\n",
    "    \n",
    "    IRESTORE = ICONV_MODEL + IRESIDUE\n",
    "    QRESTORE = QCONV_MODEL + QRESIDUE\n",
    "    URESTORE = UCONV_MODEL + URESIDUE\n",
    "    VRESTORE = VCONV_MODEL + VRESIDUE\n",
    "    \n",
    "    return (ICLEAN, IRESIDUE, IRESTORE, ICONV_MODEL,QCLEAN, QRESIDUE, QRESTORE, QCONV_MODEL,\n",
    "            UCLEAN, URESIDUE, URESTORE, UCONV_MODEL,VCLEAN, VRESIDUE, VRESTORE, VCONV_MODEL)\n",
    "            \n",
    "            "
   ]
  },
  {
   "cell_type": "code",
   "execution_count": null,
   "metadata": {
    "collapsed": true
   },
   "outputs": [],
   "source": [
    "class AA_filter:\n",
    "    \"\"\"\n",
    "    Anti-Aliasing filter\n",
    "    \n",
    "    Keyword arguments for __init__:\n",
    "    filter_half_support --- Half support (N) of the filter; the filter has a full support of N*2 + 1 taps\n",
    "    filter_oversampling_factor --- Number of spaces in-between grid-steps (improves gridding/degridding accuracy)\n",
    "    filter_type --- box (nearest-neighbour), sinc or gaussian_sinc\n",
    "    \"\"\"\n",
    "    half_sup = 0\n",
    "    oversample = 0\n",
    "    full_sup_wo_padding = 0\n",
    "    full_sup = 0\n",
    "    no_taps = 0\n",
    "    filter_taps = None\n",
    "    def __init__(self, filter_half_support, filter_oversampling_factor, filter_type):\n",
    "        self.half_sup = filter_half_support\n",
    "        self.oversample = filter_oversampling_factor\n",
    "        self.full_sup_wo_padding = (filter_half_support * 2 + 1)\n",
    "        self.full_sup = self.full_sup_wo_padding + 2 #+ padding\n",
    "        self.no_taps = self.full_sup + (self.full_sup - 1) * (filter_oversampling_factor - 1)\n",
    "        taps = np.arange(self.no_taps)/float(filter_oversampling_factor) - self.full_sup / 2\n",
    "        if filter_type == \"box\":\n",
    "            self.filter_taps = np.where((taps >= -0.5) & (taps <= 0.5),\n",
    "                                        np.ones([len(taps)]),np.zeros([len(taps)]))\n",
    "        elif filter_type == \"sinc\":\n",
    "            self.filter_taps = np.sinc(taps)\n",
    "        elif filter_type == \"gaussian_sinc\":\n",
    "            alpha_1=1.55\n",
    "            alpha_2=2.52\n",
    "            self.filter_taps = np.sin(np.pi/alpha_1*(taps+0.00000000001))/(np.pi*(taps+0.00000000001))*np.exp(-(taps/alpha_2)**2)\n",
    "        else:\n",
    "            raise ValueError(\"Expected one of 'box','sinc' or 'gausian_sinc'\")"
   ]
  },
  {
   "cell_type": "code",
   "execution_count": null,
   "metadata": {
    "collapsed": false
   },
   "outputs": [],
   "source": [
    "def grid_ifft(vis,uvw,ref_lda,Nx,Ny,convolution_filter):\n",
    "    \"\"\"\n",
    "    Convolutional gridder (continnuum)\n",
    "    \n",
    "    Keyword arguments:\n",
    "    vis --- Visibilities as sampled by the interferometer\n",
    "    uvw --- interferometer's scaled uvw coordinates. (Prerequisite: these uv points are already scaled by the simularity\n",
    "            theorem, such that -N_x*Cell_l*0.5 <= theta_l <= N_x*Cell_l*0.5 and\n",
    "            -N_y*Cell_m*0.5 <= theta_m <= N_y*Cell_m*0.5\n",
    "    ref_lda --- array of reference lambdas (size of vis channels)\n",
    "    Nx,Ny --- size of image in pixels\n",
    "    convolution_filter --- pre-instantiated AA_filter anti-aliasing filter object\n",
    "    \"\"\"\n",
    "    assert vis.shape[1] == ref_lda.shape[0], (vis.shape[1], ref_lda.shape[0])\n",
    "    filter_index = np.arange(-convolution_filter.half_sup,convolution_filter.half_sup+1)\n",
    "    measurement_regular = np.zeros([vis.shape[2],Ny,Nx],dtype=np.complex) #one grid for the resampled visibilities\n",
    "    #for deconvolution the PSF should be 2x size of the image (see Hogbom CLEAN for details):\n",
    "    sampling_regular = np.zeros([2*Ny,2*Nx],dtype=np.complex) #one grid for the resampled sampling function\n",
    "    \n",
    "    pbar = FloatProgress(min=0, max=100)\n",
    "    display(pbar)\n",
    "    for r in range(0,uvw.shape[0]):\n",
    "        pbar.value = r / float(uvw.shape[0]) * 100\n",
    "        for c in range(vis.shape[1]):\n",
    "            scaled_uv = uvw[r,:] / ref_lda[c] \n",
    "            disc_u = int(scaled_uv[0])\n",
    "            disc_v = int(scaled_uv[1])\n",
    "            frac_u_offset = int((convolution_filter.half_sup + 1 + (-scaled_uv[0] + disc_u)) * convolution_filter.oversample)\n",
    "            frac_v_offset = int((convolution_filter.half_sup + 1 + (-scaled_uv[1] + disc_v)) * convolution_filter.oversample)\n",
    "            disc_u_psf = int(scaled_uv[0]*2)\n",
    "            disc_v_psf = int(scaled_uv[1]*2)\n",
    "            frac_u_offset_psf = int((convolution_filter.half_sup + 1 + (-scaled_uv[0]*2 + disc_u_psf)) * convolution_filter.oversample)\n",
    "            frac_v_offset_psf = int((convolution_filter.half_sup + 1 + (-scaled_uv[1]*2 + disc_v_psf)) * convolution_filter.oversample)\n",
    "            if (disc_v + Ny // 2 + convolution_filter.half_sup >= Ny or \n",
    "                disc_u + Nx // 2 + convolution_filter.half_sup >= Nx or\n",
    "                disc_v + Ny // 2 - convolution_filter.half_sup < 0 or \n",
    "                disc_u + Nx // 2 - convolution_filter.half_sup < 0): \n",
    "                continue\n",
    "            for conv_v in filter_index:\n",
    "                v_tap = convolution_filter.filter_taps[conv_v * convolution_filter.oversample + frac_v_offset]  \n",
    "                v_tap_psf = convolution_filter.filter_taps[conv_v * convolution_filter.oversample + frac_v_offset_psf]  \n",
    "                grid_pos_v = disc_v + conv_v + Ny // 2\n",
    "                grid_pos_v_psf = disc_v_psf + conv_v + Ny\n",
    "                for conv_u in filter_index:\n",
    "                    u_tap = convolution_filter.filter_taps[conv_u * convolution_filter.oversample + frac_u_offset]\n",
    "                    u_tap_psf = convolution_filter.filter_taps[conv_u * convolution_filter.oversample + frac_u_offset_psf]\n",
    "                    conv_weight = v_tap * u_tap\n",
    "                    conv_weight_psf = v_tap_psf * u_tap_psf\n",
    "                    grid_pos_u = disc_u + conv_u + Ny // 2\n",
    "                    grid_pos_u_psf = disc_u_psf + conv_u + Nx\n",
    "                    for p in range(vis.shape[2]):\n",
    "                        measurement_regular[p,grid_pos_v,grid_pos_u] += vis[r,c,p] * conv_weight\n",
    "                    sampling_regular[grid_pos_v_psf,grid_pos_u_psf] += (1+0.0j) * conv_weight_psf\n",
    "                    \n",
    "    dirty = np.zeros(measurement_regular.shape,dtype=measurement_regular.dtype)\n",
    "    psf = np.zeros(sampling_regular.shape,dtype=sampling_regular.dtype)\n",
    "    \n",
    "    for p in range(vis.shape[2]):\n",
    "        dirty[p,:,:] = np.fft.fftshift(np.fft.ifft2(np.fft.ifftshift(measurement_regular[p,:,:])))\n",
    "    psf[:,:] = np.fft.fftshift(np.fft.ifft2(np.fft.ifftshift(sampling_regular[:,:])))\n",
    "    return dirty,psf"
   ]
  },
  {
   "cell_type": "markdown",
   "metadata": {},
   "source": [
    "# Simulate sky"
   ]
  },
  {
   "cell_type": "code",
   "execution_count": null,
   "metadata": {
    "collapsed": false
   },
   "outputs": [],
   "source": [
    "import subprocess\n",
    "import Cattery.Siamese \n",
    "turbo_sim_path = \"%s/turbo-sim.py\" % Cattery.Siamese.__path__[0]\n",
    "subprocess.check_call(\"cd DATA ; makems pols.makems.parset ; meqtree-pipeliner.py -c polarized_sky.tdl --mt=4 @pol %s =simulate\" % turbo_sim_path, shell=True)"
   ]
  },
  {
   "cell_type": "markdown",
   "metadata": {},
   "source": [
    "# Compute Dirty"
   ]
  },
  {
   "cell_type": "code",
   "execution_count": null,
   "metadata": {
    "collapsed": false
   },
   "outputs": [],
   "source": [
    "ms = tbl(\"DATA/polarized_sky.MS_p0/\")\n",
    "aa = AA_filter(3,63,\"sinc\")\n",
    "c = 2.99792458e8\n",
    "npix = 1025\n",
    "ARCSEC2RAD = 4.8481e-6\n",
    "delta_pix = 2 * ARCSEC2RAD\n",
    "uv_scale = npix * delta_pix\n",
    "nchan = 1\n",
    "nrows = -1 #-1 to select all\n",
    "uvw = ms.getcol(\"UVW\")[0:nrows,:] * uv_scale\n",
    "vis = ms.getcol(\"DATA\")[0:nrows,0:nchan,:]\n",
    "ms.close()\n",
    "ref_freq = np.linspace(1.140e9,1.340e9,vis.shape[1])\n",
    "ref_lambda = c / ref_freq\n",
    "dirty,psf = grid_ifft(vis,uvw,ref_lambda,npix,npix,aa)"
   ]
  },
  {
   "cell_type": "markdown",
   "metadata": {},
   "source": [
    "# Correlations -> Stokes"
   ]
  },
  {
   "cell_type": "code",
   "execution_count": null,
   "metadata": {
    "collapsed": false
   },
   "outputs": [],
   "source": [
    "I = np.real((dirty[0,:,:]+dirty[3,:,:])*0.5)\n",
    "Q = np.real((dirty[0,:,:]-dirty[3,:,:])*0.5)\n",
    "U = np.real((dirty[1,:,:]+dirty[2,:,:])*0.5)\n",
    "V = np.imag((dirty[1,:,:]-dirty[2,:,:])*0.5)\n",
    "\n",
    "#assume psf is the same for all polarizations:\n",
    "I_PSF = np.abs(psf)\n",
    "Q_PSF = np.abs(psf)\n",
    "U_PSF = np.abs(psf)\n",
    "V_PSF = np.abs(psf)\n",
    "\n",
    "I /= (np.max(I_PSF)*4) #x4 because the N**2 FFT normalization factor on a square image double the size\n",
    "Q /= (np.max(Q_PSF)*4)\n",
    "U /= (np.max(U_PSF)*4)\n",
    "V /= (np.max(V_PSF)*4)\n",
    "I_PSF /= np.max(I_PSF)\n",
    "Q_PSF /= np.max(Q_PSF)\n",
    "U_PSF /= np.max(U_PSF)\n",
    "V_PSF /= np.max(V_PSF)"
   ]
  },
  {
   "cell_type": "markdown",
   "metadata": {},
   "source": [
    "# Dirty map"
   ]
  },
  {
   "cell_type": "code",
   "execution_count": null,
   "metadata": {
    "collapsed": false
   },
   "outputs": [],
   "source": [
    "F = plt.figure(1,(15,15))\n",
    "grid = ImageGrid(F, 111,  # similar to subplot(111)\n",
    "                nrows_ncols=(2, 2),\n",
    "                direction=\"row\",\n",
    "                axes_pad=0.5,\n",
    "                add_all=True,\n",
    "                label_mode=\"1\",\n",
    "                share_all=True,\n",
    "                cbar_location=\"right\",\n",
    "                cbar_mode=\"each\",\n",
    "                cbar_size=\"3%\")\n",
    "\n",
    "grid[0].set_title(\"I\")\n",
    "im = grid[0].imshow(I, origin=\"lower\", interpolation=\"nearest\", cmap=\"cubehelix\")\n",
    "grid[0].cax.colorbar(im)\n",
    "grid[1].set_title(\"Q\")\n",
    "im = grid[1].imshow(Q, origin=\"lower\", interpolation=\"nearest\", cmap=\"cubehelix\")\n",
    "grid[1].cax.colorbar(im)\n",
    "grid[2].set_title(\"U\")\n",
    "im = grid[2].imshow(U, origin=\"lower\", interpolation=\"nearest\", cmap=\"cubehelix\")\n",
    "grid[2].cax.colorbar(im)\n",
    "grid[3].set_title(\"V\")\n",
    "im = grid[3].imshow(V, origin=\"lower\", interpolation=\"nearest\", cmap=\"cubehelix\")\n",
    "grid[3].cax.colorbar(im)\n",
    "plt.show()"
   ]
  },
  {
   "cell_type": "markdown",
   "metadata": {},
   "source": [
    "# PSF"
   ]
  },
  {
   "cell_type": "code",
   "execution_count": null,
   "metadata": {
    "collapsed": false
   },
   "outputs": [],
   "source": [
    "F = plt.figure(1,(15,15))\n",
    "grid = ImageGrid(F, 111,  # similar to subplot(111)\n",
    "                nrows_ncols=(2, 2),\n",
    "                direction=\"row\",\n",
    "                axes_pad=0.5,\n",
    "                add_all=True,\n",
    "                label_mode=\"1\",\n",
    "                share_all=True,\n",
    "                cbar_location=\"right\",\n",
    "                cbar_mode=\"each\",\n",
    "                cbar_size=\"3%\")\n",
    "\n",
    "grid[0].set_title(\"I PSF\")\n",
    "im = grid[0].imshow(I_PSF, origin=\"lower\", interpolation=\"nearest\", cmap=\"cubehelix\")\n",
    "grid[0].cax.colorbar(im)\n",
    "grid[1].set_title(\"Q PSF\")\n",
    "im = grid[1].imshow(Q_PSF, origin=\"lower\", interpolation=\"nearest\", cmap=\"cubehelix\")\n",
    "grid[1].cax.colorbar(im)\n",
    "grid[2].set_title(\"U PSF\")\n",
    "im = grid[2].imshow(U_PSF, origin=\"lower\", interpolation=\"nearest\", cmap=\"cubehelix\")\n",
    "grid[2].cax.colorbar(im)\n",
    "grid[3].set_title(\"V PSF\")\n",
    "im = grid[3].imshow(V_PSF, origin=\"lower\", interpolation=\"nearest\", cmap=\"cubehelix\")\n",
    "grid[3].cax.colorbar(im)\n",
    "plt.show()"
   ]
  },
  {
   "cell_type": "markdown",
   "metadata": {},
   "source": [
    "# Clean"
   ]
  },
  {
   "cell_type": "code",
   "execution_count": null,
   "metadata": {
    "collapsed": false
   },
   "outputs": [],
   "source": [
    "print \"Cleaning I...\"\n",
    "I_clean,I_residue,I_restored,I_convmodel, _, _, _, _, _, _, _, _ , _, _, _, _ = CLEAN_HOG(I,Q,U,V,I_PSF,mode=\"I\")\n",
    "print \"\\t ...done\"\n",
    "print \"Cleaning Q+Ui...\"\n",
    "_, _, _, _, Q_clean, Q_residue, Q_restored, Q_convmodel, U_clean, U_residue, U_restored, U_convmodel, _, _, _, _ = CLEAN_HOG(I,Q,U,V,I_PSF,mode=\"Q+iU\")\n",
    "print \"\\t ...done\"\n",
    "print \"Cleaning V...\"\n",
    "_, _, _, _, _, _, _, _, _, _, _, _, V_clean, V_residue, V_restored, V_convmodel = CLEAN_HOG(I,Q,U,V,I_PSF,mode=\"V\")\n",
    "print \"\\t ...done\""
   ]
  },
  {
   "cell_type": "markdown",
   "metadata": {},
   "source": [
    "## Cleaned I"
   ]
  },
  {
   "cell_type": "code",
   "execution_count": null,
   "metadata": {
    "collapsed": false
   },
   "outputs": [],
   "source": [
    "F = plt.figure(1,(15,15))\n",
    "grid = ImageGrid(F, 111,  # similar to subplot(111)\n",
    "                nrows_ncols=(2, 2),\n",
    "                direction=\"row\",\n",
    "                axes_pad=0.5,\n",
    "                add_all=True,\n",
    "                label_mode=\"1\",\n",
    "                share_all=True,\n",
    "                cbar_location=\"right\",\n",
    "                cbar_mode=\"each\",\n",
    "                cbar_size=\"3%\")\n",
    "\n",
    "grid[0].set_title(\"I Restored\")\n",
    "im = grid[0].imshow(I_restored, origin=\"lower\", interpolation=\"nearest\", cmap=\"cubehelix\")\n",
    "grid[0].cax.colorbar(im)\n",
    "grid[1].set_title(\"I Residue\")\n",
    "im = grid[1].imshow(I_residue, origin=\"lower\", interpolation=\"nearest\", cmap=\"cubehelix\")\n",
    "grid[1].cax.colorbar(im)\n",
    "grid[2].set_title(\"I Dirty\")\n",
    "im = grid[2].imshow(I, origin=\"lower\", interpolation=\"nearest\", cmap=\"cubehelix\")\n",
    "grid[2].cax.colorbar(im)\n",
    "grid[3].set_title(\"I convolved clean map\")\n",
    "im = grid[3].imshow(I_convmodel, origin=\"lower\", interpolation=\"nearest\", cmap=\"cubehelix\")\n",
    "grid[3].cax.colorbar(im)\n",
    "plt.show()"
   ]
  },
  {
   "cell_type": "markdown",
   "metadata": {
    "collapsed": true
   },
   "source": [
    "## Cleaned Linear"
   ]
  },
  {
   "cell_type": "code",
   "execution_count": null,
   "metadata": {
    "collapsed": false
   },
   "outputs": [],
   "source": [
    "F = plt.figure(1,(15,15))\n",
    "grid = ImageGrid(F, 111,  # similar to subplot(111)\n",
    "                nrows_ncols=(2, 2),\n",
    "                direction=\"row\",\n",
    "                axes_pad=0.5,\n",
    "                add_all=True,\n",
    "                label_mode=\"1\",\n",
    "                share_all=True,\n",
    "                cbar_location=\"right\",\n",
    "                cbar_mode=\"each\",\n",
    "                cbar_size=\"3%\")\n",
    "\n",
    "grid[0].set_title(\"Q Restored\")\n",
    "im = grid[0].imshow(Q_restored, origin=\"lower\", interpolation=\"nearest\", cmap=\"cubehelix\")\n",
    "grid[0].cax.colorbar(im)\n",
    "grid[1].set_title(\"Q Residue\")\n",
    "im = grid[1].imshow(Q_residue, origin=\"lower\", interpolation=\"nearest\", cmap=\"cubehelix\")\n",
    "grid[1].cax.colorbar(im)\n",
    "grid[2].set_title(\"Q Dirty\")\n",
    "im = grid[2].imshow(Q, origin=\"lower\", interpolation=\"nearest\", cmap=\"cubehelix\")\n",
    "grid[2].cax.colorbar(im)\n",
    "grid[3].set_title(\"Q convolved clean map\")\n",
    "im = grid[3].imshow(Q_convmodel, origin=\"lower\", interpolation=\"nearest\", cmap=\"cubehelix\")\n",
    "grid[3].cax.colorbar(im)\n",
    "plt.show()\n",
    "\n",
    "F = plt.figure(1,(15,15))\n",
    "grid = ImageGrid(F, 111,  # similar to subplot(111)\n",
    "                nrows_ncols=(2, 2),\n",
    "                direction=\"row\",\n",
    "                axes_pad=0.5,\n",
    "                add_all=True,\n",
    "                label_mode=\"1\",\n",
    "                share_all=True,\n",
    "                cbar_location=\"right\",\n",
    "                cbar_mode=\"each\",\n",
    "                cbar_size=\"3%\")\n",
    "\n",
    "grid[0].set_title(\"U Restored\")\n",
    "im = grid[0].imshow(U_restored, origin=\"lower\", interpolation=\"nearest\", cmap=\"cubehelix\")\n",
    "grid[0].cax.colorbar(im)\n",
    "grid[1].set_title(\"U Residue\")\n",
    "im = grid[1].imshow(U_residue, origin=\"lower\", interpolation=\"nearest\", cmap=\"cubehelix\")\n",
    "grid[1].cax.colorbar(im)\n",
    "grid[2].set_title(\"U Dirty\")\n",
    "im = grid[2].imshow(U, origin=\"lower\", interpolation=\"nearest\", cmap=\"cubehelix\")\n",
    "grid[2].cax.colorbar(im)\n",
    "grid[3].set_title(\"U convolved clean map\")\n",
    "im = grid[3].imshow(U_convmodel, origin=\"lower\", interpolation=\"nearest\", cmap=\"cubehelix\")\n",
    "grid[3].cax.colorbar(im)\n",
    "plt.show()"
   ]
  },
  {
   "cell_type": "markdown",
   "metadata": {},
   "source": [
    "# Circular polarization"
   ]
  },
  {
   "cell_type": "code",
   "execution_count": null,
   "metadata": {
    "collapsed": false
   },
   "outputs": [],
   "source": [
    "F = plt.figure(1,(15,15))\n",
    "grid = ImageGrid(F, 111,  # similar to subplot(111)\n",
    "                nrows_ncols=(2, 2),\n",
    "                direction=\"row\",\n",
    "                axes_pad=0.5,\n",
    "                add_all=True,\n",
    "                label_mode=\"1\",\n",
    "                share_all=True,\n",
    "                cbar_location=\"right\",\n",
    "                cbar_mode=\"each\",\n",
    "                cbar_size=\"3%\")\n",
    "\n",
    "grid[0].set_title(\"V Restored\")\n",
    "im = grid[0].imshow(V_restored, origin=\"lower\", interpolation=\"nearest\", cmap=\"cubehelix\")\n",
    "grid[0].cax.colorbar(im)\n",
    "grid[1].set_title(\"V Residue\")\n",
    "im = grid[1].imshow(V_residue, origin=\"lower\", interpolation=\"nearest\", cmap=\"cubehelix\")\n",
    "grid[1].cax.colorbar(im)\n",
    "grid[2].set_title(\"V Dirty\")\n",
    "im = grid[2].imshow(V, origin=\"lower\", interpolation=\"nearest\", cmap=\"cubehelix\")\n",
    "grid[2].cax.colorbar(im)\n",
    "grid[3].set_title(\"V convolved clean map\")\n",
    "im = grid[3].imshow(V_convmodel, origin=\"lower\", interpolation=\"nearest\", cmap=\"cubehelix\")\n",
    "grid[3].cax.colorbar(im)\n",
    "plt.show()"
   ]
  },
  {
   "cell_type": "code",
   "execution_count": null,
   "metadata": {
    "collapsed": true
   },
   "outputs": [],
   "source": []
  }
 ],
 "metadata": {
  "kernelspec": {
   "display_name": "Python 2",
   "language": "python",
   "name": "python2"
  },
  "language_info": {
   "codemirror_mode": {
    "name": "ipython",
    "version": 2
   },
   "file_extension": ".py",
   "mimetype": "text/x-python",
   "name": "python",
   "nbconvert_exporter": "python",
   "pygments_lexer": "ipython2",
   "version": "2.7.6"
  },
  "widgets": {
   "state": {
    "0675845e636d4dc59dd578de525d39b6": {
     "views": []
    },
    "0770b7a128d343cfa3c7b449ee32c355": {
     "views": [
      {
       "cell_index": 17
      }
     ]
    },
    "1293c8d2637c4578a6d0cbdc105c9a87": {
     "views": [
      {
       "cell_index": 9
      }
     ]
    },
    "1e7e9915808345c6b71e0f059b9f2706": {
     "views": []
    },
    "391440380bdf49c09bf8a5d703b06a10": {
     "views": []
    },
    "3da6d155b8d140c0aa538ca367ab8642": {
     "views": []
    },
    "3dbd73829edf4def90e1eadf50bc7bcc": {
     "views": []
    },
    "3e3367243ecf4cdaadf2ce22d3fac9c5": {
     "views": []
    },
    "43bd82b48405491b95ccbcc57594e0aa": {
     "views": []
    },
    "45a6d290b5534ca0b1687211bff6610e": {
     "views": []
    },
    "592934b754164704892a18d637b8ce72": {
     "views": []
    },
    "7491dc798741444e9b81e266fb232121": {
     "views": []
    },
    "84d464e8bd934b18a22a40978f955913": {
     "views": [
      {
       "cell_index": 17
      }
     ]
    },
    "84f8f622013c4897bc8d8c371da84d6c": {
     "views": []
    },
    "879fae804da3480489852d1d86faca75": {
     "views": []
    },
    "8b8a7bf8f5c64c9485da8a6ab73a164a": {
     "views": [
      {
       "cell_index": 17
      }
     ]
    },
    "9592b03fa0e34400b1feb0b8b4246bd2": {
     "views": []
    },
    "db998176d4aa49d6904d269a95bb0f48": {
     "views": []
    },
    "e5651483fbbf4aa787661f6a22429745": {
     "views": []
    },
    "f4c4fee603bf4dac89c8e05e47735a9e": {
     "views": [
      {
       "cell_index": 17
      }
     ]
    },
    "fa777cb889d84f96a7e1d7828cad144b": {
     "views": []
    },
    "fbc6c43dffe34e3cb3750fd297854406": {
     "views": []
    },
    "fe11e670db61466caebd3ba39472a606": {
     "views": []
    },
    "fe6b6cf0f9f641b6a1c3157d917f190c": {
     "views": [
      {
       "cell_index": 17
      }
     ]
    }
   },
   "version": "1.1.1"
  }
 },
 "nbformat": 4,
 "nbformat_minor": 0
}
