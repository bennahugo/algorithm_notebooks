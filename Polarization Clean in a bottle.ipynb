{
 "cells": [
  {
   "cell_type": "markdown",
   "metadata": {},
   "source": [
    "# Polarization CLEAN in a bottle\n",
    "______________________________________________________________________________\n",
    "\n",
    "Algorithm: Pratley, Luke and Johnston-Hollit Melanie, An improved method for \n",
    "polarimetric image restoration in interferometry, 2016\n",
    "\n",
    "Implementation (C) B Hugo, SKA-SA\n",
    "\n",
    "Credit: L Bester's Hogbom CLEAN implementation, SKA-SA\n",
    "______________________________________________________________________________"
   ]
  },
  {
   "cell_type": "code",
   "execution_count": null,
   "metadata": {
    "collapsed": false
   },
   "outputs": [],
   "source": [
    "from numpy import *\n",
    "import numpy as np\n",
    "import matplotlib.pyplot as plt\n",
    "from pyrap.tables import table as tbl\n",
    "import scipy.signal\n",
    "import time\n",
    "from IPython.display import clear_output\n",
    "from IPython.html.widgets import FloatProgress\n",
    "from IPython.display import display\n",
    "from mpl_toolkits.axes_grid1 import AxesGrid\n",
    "from scipy import optimize as opt\n",
    "from mpl_toolkits.axes_grid1 import ImageGrid\n",
    "%matplotlib inline"
   ]
  },
  {
   "cell_type": "code",
   "execution_count": null,
   "metadata": {
    "collapsed": true
   },
   "outputs": [],
   "source": [
    "#(C) Landman Bester\n",
    "def twoD_Gaussian((x, y), amplitude, xo, yo, sigma_x, sigma_y, theta, offset):\n",
    "    xo = float(xo)\n",
    "    yo = float(yo)\n",
    "    a = (cos(theta)**2)/(2*sigma_x**2) + (sin(theta)**2)/(2*sigma_y**2)\n",
    "    b = -(sin(2*theta))/(4*sigma_x**2) + (sin(2*theta))/(4*sigma_y**2)\n",
    "    c = (sin(theta)**2)/(2*sigma_x**2) + (cos(theta)**2)/(2*sigma_y**2)\n",
    "    g = offset + amplitude*exp( - (a*((x-xo)**2) + 2*b*(x-xo)*(y-yo) + c*((y-yo)**2)))\n",
    "    return g.flatten()\n",
    "\n",
    "#(C) Landman Bester\n",
    "def fit_2D_Gaussian(PSF):\n",
    "    \"\"\"\n",
    "    Fit an elliptical Gaussian to the primary lobe of the PSF\n",
    "    \"\"\"\n",
    "    #Get the full width at half maximum height of the PSF\n",
    "    I = argwhere(PSF>=0.5*PSF.max())\n",
    "    #Create an array with these values at the same indices and zeros otherwise\n",
    "    lk,mk = PSF.shape\n",
    "    psf_fit = zeros([lk,mk])\n",
    "    psf_fit[I[:,0],I[:,1]] = PSF[I[:,0],I[:,1]]\n",
    "    # Create x and y indices\n",
    "    x = linspace(0, PSF.shape[0]-1, PSF.shape[0])\n",
    "    y = linspace(0, PSF.shape[1]-1, PSF.shape[1])\n",
    "    x, y = meshgrid(x, y)\n",
    "    # Set starting point of optimiser\n",
    "    initial_guess = (0.5,lk/2,mk/2,1.75,1.4,-4.0,0)\n",
    "    #Flatten the data\n",
    "    data = psf_fit.ravel()\n",
    "    #Fit the function (Gaussian for now)\n",
    "    popt, pcov = opt.curve_fit(twoD_Gaussian, (x, y), data, p0=initial_guess)\n",
    "    #Get function with fitted params\n",
    "    data_fitted = twoD_Gaussian((x, y), *popt)\n",
    "    #Normalise the psf to have a max value of one\n",
    "    data_fitted = data_fitted/data_fitted.max()\n",
    "    return data_fitted.reshape(lk,mk)\n"
   ]
  },
  {
   "cell_type": "code",
   "execution_count": null,
   "metadata": {
    "collapsed": false
   },
   "outputs": [],
   "source": [
    "def find_peak(Iresidue,Qresidue,Uresidue,Vresidue,mode=\"I\"):\n",
    "    \"\"\"\n",
    "    Finds peak in image or combination of images depending on mode\n",
    "    Q+iU: Luke Pratley's joint linear (P) polarization clean\n",
    "    I: Intensity only\n",
    "    \"\"\"\n",
    "    if mode == \"Q+iU\":\n",
    "        values_map = Qresidue + Uresidue*1.0j\n",
    "        peakmap = (np.abs(values_map))**2\n",
    "        p,q = (argwhere(peakmap==peakmap.max())[0]).squeeze()\n",
    "        pmin,qmin = (argwhere(peakmap==peakmap.min())[0]).squeeze()\n",
    "        Istar = values_map[p,q] #in Q and U the values may be negative or positive\n",
    "    elif mode == \"I\":\n",
    "        peakmap = Iresidue\n",
    "        p,q = (argwhere(peakmap==peakmap.max())[0]).squeeze()\n",
    "        pmin,qmin = (argwhere(peakmap==peakmap.min())[0]).squeeze()\n",
    "        Istar = peakmap[p,q]\n",
    "    else:\n",
    "        raise ValueError(\"Peakfinding only works for mode one of [Q+iU, I]\")\n",
    "    return p,q,pmin,qmin,Istar\n",
    "\n",
    "def build_cleanmap(ICLEAN,QCLEAN,UCLEAN,VCLEAN,Istar,gamma,p,q,mode=\"I\"):\n",
    "    if mode == \"Q+iU\":\n",
    "        QCLEAN[p,q] += Istar.real*gamma\n",
    "        UCLEAN[p,q] += Istar.imag*gamma\n",
    "    elif mode == \"I\":\n",
    "        ICLEAN[p,q] += Istar*gamma\n",
    "    else:\n",
    "        raise ValueError(\"Cleanmap building only works for mode one of [Q+iU, I]\")\n",
    "        \n",
    "def update_residual(Iresidue,Qresidue,Uresidue,Vresidue,Istar,gamma,p,q,PSF,mode=\"I\"):\n",
    "    if mode == \"Q+iU\":\n",
    "        npix = Iresidue.shape[0] #Assuming square image\n",
    "        Qresidue -= gamma*Istar.real*PSF[npix - p:2*npix - p,npix - q:2*npix - q] \n",
    "        Uresidue -= gamma*Istar.imag*PSF[npix - p:2*npix - p,npix - q:2*npix - q] \n",
    "    elif mode == \"I\":\n",
    "        npix = Iresidue.shape[0] #Assuming square image\n",
    "        Iresidue -= gamma*Istar*PSF[npix - p:2*npix - p,npix - q:2*npix - q] \n",
    "    else:\n",
    "        raise ValueError(\"Residual subtraction only works for mode one of [Q+iU, I]\")\n",
    "        \n",
    "def convolve_model(CLEAN_BEAM,ICLEAN,QCLEAN,UCLEAN,VCLEAN,mode):\n",
    "    ICONV_MODEL = np.zeros(ICLEAN.shape)\n",
    "    QCONV_MODEL = np.zeros(ICLEAN.shape)\n",
    "    UCONV_MODEL = np.zeros(ICLEAN.shape)\n",
    "    VCONV_MODEL = np.zeros(ICLEAN.shape)\n",
    "    if mode == \"Q+iU\":\n",
    "        QCONV_MODEL[:,:] = scipy.signal.fftconvolve(QCLEAN,CLEAN_BEAM,mode='same') #, cval=0.0) #Fast using fft\n",
    "        UCONV_MODEL[:,:] = scipy.signal.fftconvolve(UCLEAN,CLEAN_BEAM,mode='same') #, cval=0.0) #Fast using fft\n",
    "    elif mode == \"I\":\n",
    "        ICONV_MODEL[:,:] = scipy.signal.fftconvolve(ICLEAN,CLEAN_BEAM,mode='same') #, cval=0.0) #Fast using fft\n",
    "    else:\n",
    "        raise ValueError(\"Residual subtraction only works for mode one of [Q+iU, I]\")\n",
    "    return ICONV_MODEL, QCONV_MODEL, UCONV_MODEL, VCONV_MODEL\n",
    "\n",
    "def CLEAN_HOG(IDIRTY,QDIRTY,UDIRTY,VDIRTY,\n",
    "              PSF,gamma = 0.1,threshold = \"Default\", niter = \"Default\", \n",
    "              plot_on=True, mode=\"I\"):\n",
    "    \"\"\"\n",
    "    This is a simple Hogbom CLEAN assuming a full cleaning window\n",
    "    Input: IDirty = the dirty image to be cleaned\n",
    "    PSF = the point spread function\n",
    "    gamma = the gain factor (must be less than one)\n",
    "    theshold = the threshold to clean up to\n",
    "    niter = the maximum number of iterations allowed\n",
    "    Output: ICLEAN = Clean model, IRESIDUAL = Residuals, \n",
    "            IRESTORE = Restored map, ICONV_CLEAN = Clean model convolved with clean beam\n",
    "    \n",
    "    \"\"\"\n",
    "    #deep copy dirties to first residues, want to keep the original dirty maps\n",
    "    ID = np.copy(IDIRTY)\n",
    "    QD = np.copy(QDIRTY) \n",
    "    UD = np.copy(UDIRTY) \n",
    "    VD = np.copy(VDIRTY) \n",
    "    #Check that all the dirty maps have the same shape\n",
    "    if (ID.shape[0] != QD.shape[0] or QD.shape[0] != UD.shape[0] or UD.shape[0] != VD.shape[0] or\n",
    "        ID.shape[1] != QD.shape[1] or QD.shape[1] != UD.shape[1] or UD.shape[1] != VD.shape[1]):\n",
    "            raise ValueError(\"Polarized dirties must have the same shape\")\n",
    "    #Check that PSF is twice the size of ID\n",
    "    if PSF.shape[0] != 2*ID.shape[0] or PSF.shape[1] != 2*ID.shape[1]:\n",
    "        raise ValueError(\"Warning PSF not right size\")\n",
    "    #Initialise array to store cleaned image\n",
    "    ICLEAN = zeros([npix,npix])\n",
    "    QCLEAN = zeros([npix,npix])\n",
    "    UCLEAN = zeros([npix,npix])\n",
    "    VCLEAN = zeros([npix,npix])\n",
    "\n",
    "    if niter == \"Default\":\n",
    "        niter = 3*npix\n",
    "\n",
    "    p,q,pmin,qmin,Istar = find_peak(ID,QD,UD,VD,mode)\n",
    "    if threshold==\"Default\":\n",
    "        threshold = 0.2*np.abs(Istar) #Imin + 0.001*(Istar - Imin)\n",
    "        print \"Threshold set at \", threshold\n",
    "    else:\n",
    "        print \"Assuming user set threshold\"\n",
    "\n",
    "    #CLEAN the image\n",
    "    i = 0 #counter index\n",
    "    pbar_clean = FloatProgress(min=0, max=100)\n",
    "    display(pbar_clean)\n",
    "\n",
    "    while np.abs(Istar) > threshold and i <= niter:\n",
    "        #First we set the\n",
    "        build_cleanmap(ICLEAN,QCLEAN,UCLEAN,VCLEAN,Istar,gamma,p,q,mode)\n",
    "        #Subtract out pixel\n",
    "        update_residual(ID,QD,UD,VD,Istar,gamma,p,q,PSF,mode)\n",
    "        #Get new indices where ID is max\n",
    "        p,q,_,_,Istar = find_peak(ID,QD,UD,VD,mode)\n",
    "        #Increment counter\n",
    "        i += 1\n",
    "        #Warn if niter exceeded\n",
    "        if i > niter:\n",
    "            print \"Warning: number of iterations exceeded\"\n",
    "            print \"Minimum ID = \", ID.max()\n",
    "        pbar_clean.value = i / float(niter) * 100.0\n",
    "    pbar_clean.value = 100 # done\n",
    "    print \"Done cleaning for mode %s after %d iterations. Now restoring...\" % (mode,i)\n",
    "    #get the ideal beam (fit 2D Gaussian to HWFH of PSF)\n",
    "    CLEAN_BEAM = fit_2D_Gaussian(PSF)\n",
    "    \n",
    "    #Now convolve ICLEAN with ideal beam\n",
    "    ICONV_MODEL, QCONV_MODEL, UCONV_MODEL, VCONV_MODEL = convolve_model(CLEAN_BEAM, ICLEAN, QCLEAN, UCLEAN, VCLEAN, mode)\n",
    "    \n",
    "    #Finally we add the residuals back to the image\n",
    "    IRESIDUE = ID\n",
    "    QRESIDUE = QD\n",
    "    URESIDUE = UD\n",
    "    VRESIDUE = VD\n",
    "    \n",
    "    IRESTORE = ICONV_MODEL + IRESIDUE\n",
    "    QRESTORE = QCONV_MODEL + QRESIDUE\n",
    "    URESTORE = UCONV_MODEL + URESIDUE\n",
    "    VRESTORE = VCONV_MODEL + VRESIDUE\n",
    "    \n",
    "    return (ICLEAN, IRESIDUE, IRESTORE, ICONV_MODEL,QCLEAN, QRESIDUE, QRESTORE, QCONV_MODEL,\n",
    "            UCLEAN, URESIDUE, URESTORE, UCONV_MODEL,VCLEAN, VRESIDUE, VRESTORE, VCONV_MODEL)\n",
    "            \n",
    "            "
   ]
  },
  {
   "cell_type": "code",
   "execution_count": null,
   "metadata": {
    "collapsed": true
   },
   "outputs": [],
   "source": [
    "class AA_filter:\n",
    "    \"\"\"\n",
    "    Anti-Aliasing filter\n",
    "    \n",
    "    Keyword arguments for __init__:\n",
    "    filter_half_support --- Half support (N) of the filter; the filter has a full support of N*2 + 1 taps\n",
    "    filter_oversampling_factor --- Number of spaces in-between grid-steps (improves gridding/degridding accuracy)\n",
    "    filter_type --- box (nearest-neighbour), sinc or gaussian_sinc\n",
    "    \"\"\"\n",
    "    half_sup = 0\n",
    "    oversample = 0\n",
    "    full_sup_wo_padding = 0\n",
    "    full_sup = 0\n",
    "    no_taps = 0\n",
    "    filter_taps = None\n",
    "    def __init__(self, filter_half_support, filter_oversampling_factor, filter_type):\n",
    "        self.half_sup = filter_half_support\n",
    "        self.oversample = filter_oversampling_factor\n",
    "        self.full_sup_wo_padding = (filter_half_support * 2 + 1)\n",
    "        self.full_sup = self.full_sup_wo_padding + 2 #+ padding\n",
    "        self.no_taps = self.full_sup + (self.full_sup - 1) * (filter_oversampling_factor - 1)\n",
    "        taps = np.arange(self.no_taps)/float(filter_oversampling_factor) - self.full_sup / 2\n",
    "        if filter_type == \"box\":\n",
    "            self.filter_taps = np.where((taps >= -0.5) & (taps <= 0.5),\n",
    "                                        np.ones([len(taps)]),np.zeros([len(taps)]))\n",
    "        elif filter_type == \"sinc\":\n",
    "            self.filter_taps = np.sinc(taps)\n",
    "        elif filter_type == \"gaussian_sinc\":\n",
    "            alpha_1=1.55\n",
    "            alpha_2=2.52\n",
    "            self.filter_taps = np.sin(np.pi/alpha_1*(taps+0.00000000001))/(np.pi*(taps+0.00000000001))*np.exp(-(taps/alpha_2)**2)\n",
    "        else:\n",
    "            raise ValueError(\"Expected one of 'box','sinc' or 'gausian_sinc'\")"
   ]
  },
  {
   "cell_type": "code",
   "execution_count": null,
   "metadata": {
    "collapsed": false
   },
   "outputs": [],
   "source": [
    "def grid_ifft(vis,uvw,ref_lda,Nx,Ny,convolution_filter):\n",
    "    \"\"\"\n",
    "    Convolutional gridder (continnuum)\n",
    "    \n",
    "    Keyword arguments:\n",
    "    vis --- Visibilities as sampled by the interferometer\n",
    "    uvw --- interferometer's scaled uvw coordinates. (Prerequisite: these uv points are already scaled by the simularity\n",
    "            theorem, such that -N_x*Cell_l*0.5 <= theta_l <= N_x*Cell_l*0.5 and\n",
    "            -N_y*Cell_m*0.5 <= theta_m <= N_y*Cell_m*0.5\n",
    "    ref_lda --- array of reference lambdas (size of vis channels)\n",
    "    Nx,Ny --- size of image in pixels\n",
    "    convolution_filter --- pre-instantiated AA_filter anti-aliasing filter object\n",
    "    \"\"\"\n",
    "    assert vis.shape[1] == ref_lda.shape[0], (vis.shape[1], ref_lda.shape[0])\n",
    "    filter_index = np.arange(-convolution_filter.half_sup,convolution_filter.half_sup+1)\n",
    "    measurement_regular = np.zeros([vis.shape[2],Ny,Nx],dtype=np.complex) #one grid for the resampled visibilities\n",
    "    #for deconvolution the PSF should be 2x size of the image (see Hogbom CLEAN for details)\n",
    "    sampling_regular = np.zeros([2*Ny,2*Nx],dtype=np.complex) #one grid for the resampled sampling function\n",
    "    \n",
    "    pbar = FloatProgress(min=0, max=100)\n",
    "    display(pbar)\n",
    "    for r in range(0,uvw.shape[0]):\n",
    "        pbar.value = r / float(uvw.shape[0]) * 100\n",
    "        for c in range(vis.shape[1]):\n",
    "            scaled_uv = uvw[r,:] / ref_lda[c]\n",
    "            disc_u = int(round(scaled_uv[0] + Nx * 0.5)) \n",
    "            disc_v = int(round(scaled_uv[1] + Ny * 0.5))\n",
    "            frac_u_offset = int(round((convolution_filter.half_sup + 1 + (-scaled_uv[0] - Nx * 0.5 + disc_u)) * convolution_filter.oversample))\n",
    "            frac_v_offset = int(round((convolution_filter.half_sup + 1 + (-scaled_uv[1] - Ny * 0.5 + disc_v)) * convolution_filter.oversample))\n",
    "            disc_u_psf = int(round(scaled_uv[0] + Nx)) \n",
    "            disc_v_psf = int(round(scaled_uv[1] + Ny))\n",
    "            if (disc_v + convolution_filter.half_sup >= Ny or \n",
    "                disc_u + convolution_filter.half_sup >= Nx or\n",
    "                disc_v - convolution_filter.half_sup < 0 or \n",
    "                disc_u - convolution_filter.half_sup < 0): \n",
    "                continue\n",
    "            for conv_v in filter_index:\n",
    "                v_tap = convolution_filter.filter_taps[conv_v * convolution_filter.oversample + frac_v_offset]  \n",
    "                grid_pos_v = disc_v + conv_v\n",
    "                grid_pos_v_psf = disc_v_psf + conv_v\n",
    "                for conv_u in filter_index:\n",
    "                    u_tap = convolution_filter.filter_taps[conv_u * convolution_filter.oversample + frac_u_offset]\n",
    "                    conv_weight = v_tap * u_tap\n",
    "                    grid_pos_u = disc_u + conv_u\n",
    "                    grid_pos_u_psf = disc_u_psf + conv_v\n",
    "                    for p in range(vis.shape[2]):\n",
    "                        measurement_regular[p,grid_pos_v,grid_pos_u] += vis[r,c,p] * conv_weight\n",
    "                    sampling_regular[grid_pos_v_psf,grid_pos_u_psf] += (1+0.0j) * conv_weight\n",
    "                        \n",
    "    dirty = np.zeros(measurement_regular.shape,dtype=measurement_regular.dtype)\n",
    "    psf = np.zeros(sampling_regular.shape,dtype=sampling_regular.dtype)\n",
    "    for p in range(vis.shape[2]):\n",
    "        dirty[p,:,:] = np.fft.fftshift(np.fft.ifft2(np.fft.ifftshift(measurement_regular[p,:,:])))\n",
    "    psf[:,:] = np.fft.fftshift(np.fft.ifft2(np.fft.ifftshift(sampling_regular[:,:])))\n",
    "    return dirty,psf"
   ]
  },
  {
   "cell_type": "markdown",
   "metadata": {},
   "source": [
    "# Compute Dirty"
   ]
  },
  {
   "cell_type": "code",
   "execution_count": null,
   "metadata": {
    "collapsed": false
   },
   "outputs": [],
   "source": [
    "ms = tbl(\"/scratch/WORKSPACE/DDFacetTesting/data/polarized_sky.MS_p0/\")\n",
    "aa = AA_filter(2,63,\"sinc\")\n",
    "c = 2.99792458e8\n",
    "npix = 1024\n",
    "ARCSEC2RAD = 4.8481e-6\n",
    "delta_pix = 2 * ARCSEC2RAD\n",
    "uv_scale = npix * delta_pix\n",
    "nchan = 1\n",
    "nrows = -1 #-1 to select all\n",
    "uvw = ms.getcol(\"UVW\")[0:nrows,:] * uv_scale\n",
    "vis = ms.getcol(\"DATA\")[0:nrows,0:nchan,:]\n",
    "ref_freq = np.linspace(1.140e9,1.340e9,vis.shape[1])\n",
    "ref_lambda = c / ref_freq\n",
    "dirty,psf = grid_ifft(vis,uvw,ref_lambda,npix,npix,aa)"
   ]
  },
  {
   "cell_type": "markdown",
   "metadata": {},
   "source": [
    "# Correlations -> Stokes"
   ]
  },
  {
   "cell_type": "code",
   "execution_count": null,
   "metadata": {
    "collapsed": true
   },
   "outputs": [],
   "source": [
    "I = np.real((dirty[0,:,:]+dirty[3,:,:])*0.5)\n",
    "Q = np.real((dirty[0,:,:]-dirty[3,:,:])*0.5)\n",
    "U = np.real((dirty[1,:,:]+dirty[2,:,:])*0.5)\n",
    "V = np.imag((dirty[1,:,:]-dirty[2,:,:])*0.5)\n",
    "\n",
    "#assume psf is the same for all polarizations:\n",
    "I_PSF = np.real(psf)\n",
    "Q_PSF = np.real(psf)\n",
    "U_PSF = np.real(psf)\n",
    "V_PSF = np.real(psf)\n",
    "\n",
    "I /= (np.max(I_PSF)*4) #x4 because the N**2 FFT normalization factor on a square image double the size\n",
    "Q /= (np.max(Q_PSF)*4)\n",
    "U /= (np.max(U_PSF)*4)\n",
    "V /= (np.max(V_PSF)*4)\n",
    "I_PSF /= np.max(I_PSF)\n",
    "Q_PSF /= np.max(Q_PSF)\n",
    "U_PSF /= np.max(U_PSF)\n",
    "V_PSF /= np.max(V_PSF)"
   ]
  },
  {
   "cell_type": "markdown",
   "metadata": {},
   "source": [
    "# Dirty map"
   ]
  },
  {
   "cell_type": "code",
   "execution_count": null,
   "metadata": {
    "collapsed": false
   },
   "outputs": [],
   "source": [
    "F = plt.figure(1,(15,15))\n",
    "grid = ImageGrid(F, 111,  # similar to subplot(111)\n",
    "                nrows_ncols=(2, 2),\n",
    "                direction=\"row\",\n",
    "                axes_pad=0.5,\n",
    "                add_all=True,\n",
    "                label_mode=\"1\",\n",
    "                share_all=True,\n",
    "                cbar_location=\"right\",\n",
    "                cbar_mode=\"each\",\n",
    "                cbar_size=\"3%\")\n",
    "\n",
    "grid[0].set_title(\"I\")\n",
    "im = grid[0].imshow(I, origin=\"lower\", interpolation=\"nearest\", cmap=\"cubehelix\")\n",
    "grid[0].cax.colorbar(im)\n",
    "grid[1].set_title(\"Q\")\n",
    "im = grid[1].imshow(Q, origin=\"lower\", interpolation=\"nearest\", cmap=\"cubehelix\")\n",
    "grid[1].cax.colorbar(im)\n",
    "grid[2].set_title(\"U\")\n",
    "im = grid[2].imshow(U, origin=\"lower\", interpolation=\"nearest\", cmap=\"cubehelix\")\n",
    "grid[2].cax.colorbar(im)\n",
    "grid[3].set_title(\"V\")\n",
    "im = grid[3].imshow(V, origin=\"lower\", interpolation=\"nearest\", cmap=\"cubehelix\")\n",
    "grid[3].cax.colorbar(im)\n",
    "plt.show()"
   ]
  },
  {
   "cell_type": "markdown",
   "metadata": {},
   "source": [
    "# PSF"
   ]
  },
  {
   "cell_type": "code",
   "execution_count": null,
   "metadata": {
    "collapsed": false
   },
   "outputs": [],
   "source": [
    "F = plt.figure(1,(15,15))\n",
    "grid = ImageGrid(F, 111,  # similar to subplot(111)\n",
    "                nrows_ncols=(2, 2),\n",
    "                direction=\"row\",\n",
    "                axes_pad=0.5,\n",
    "                add_all=True,\n",
    "                label_mode=\"1\",\n",
    "                share_all=True,\n",
    "                cbar_location=\"right\",\n",
    "                cbar_mode=\"each\",\n",
    "                cbar_size=\"3%\")\n",
    "\n",
    "grid[0].set_title(\"I PSF\")\n",
    "im = grid[0].imshow(I_PSF, origin=\"lower\", interpolation=\"nearest\", cmap=\"cubehelix\")\n",
    "grid[0].cax.colorbar(im)\n",
    "grid[1].set_title(\"Q PSF\")\n",
    "im = grid[1].imshow(Q_PSF, origin=\"lower\", interpolation=\"nearest\", cmap=\"cubehelix\")\n",
    "grid[1].cax.colorbar(im)\n",
    "grid[2].set_title(\"U PSF\")\n",
    "im = grid[2].imshow(U_PSF, origin=\"lower\", interpolation=\"nearest\", cmap=\"cubehelix\")\n",
    "grid[2].cax.colorbar(im)\n",
    "grid[3].set_title(\"V PSF\")\n",
    "im = grid[3].imshow(V_PSF, origin=\"lower\", interpolation=\"nearest\", cmap=\"cubehelix\")\n",
    "grid[3].cax.colorbar(im)\n",
    "plt.show()"
   ]
  },
  {
   "cell_type": "markdown",
   "metadata": {},
   "source": [
    "# Clean"
   ]
  },
  {
   "cell_type": "code",
   "execution_count": null,
   "metadata": {
    "collapsed": false
   },
   "outputs": [],
   "source": [
    "print \"Cleaning I...\"\n",
    "I_clean,I_residue,I_restored,I_convmodel, _, _, _, _, _, _, _, _ , _, _, _, _ = CLEAN_HOG(I,Q,U,V,I_PSF,mode=\"I\")\n",
    "print \"\\t ...done\"\n",
    "print \"Cleaning Q+Ui...\"\n",
    "_, _, _, _, Q_clean, Q_residue, Q_restored, Q_convmodel, U_clean, U_residue, U_restored, U_convmodel, _, _, _, _ = CLEAN_HOG(I,Q,U,V,I_PSF,mode=\"Q+iU\")\n",
    "print \"\\t ...done\"\n"
   ]
  },
  {
   "cell_type": "markdown",
   "metadata": {},
   "source": [
    "## Cleaned I"
   ]
  },
  {
   "cell_type": "code",
   "execution_count": null,
   "metadata": {
    "collapsed": false
   },
   "outputs": [],
   "source": [
    "F = plt.figure(1,(15,15))\n",
    "grid = ImageGrid(F, 111,  # similar to subplot(111)\n",
    "                nrows_ncols=(2, 2),\n",
    "                direction=\"row\",\n",
    "                axes_pad=0.5,\n",
    "                add_all=True,\n",
    "                label_mode=\"1\",\n",
    "                share_all=True,\n",
    "                cbar_location=\"right\",\n",
    "                cbar_mode=\"each\",\n",
    "                cbar_size=\"3%\")\n",
    "\n",
    "grid[0].set_title(\"I Restored\")\n",
    "im = grid[0].imshow(I_restored, origin=\"lower\", interpolation=\"nearest\", cmap=\"cubehelix\")\n",
    "grid[0].cax.colorbar(im)\n",
    "grid[1].set_title(\"I Residue\")\n",
    "im = grid[1].imshow(I_residue, origin=\"lower\", interpolation=\"nearest\", cmap=\"cubehelix\")\n",
    "grid[1].cax.colorbar(im)\n",
    "grid[2].set_title(\"I Dirty\")\n",
    "im = grid[2].imshow(I, origin=\"lower\", interpolation=\"nearest\", cmap=\"cubehelix\")\n",
    "grid[2].cax.colorbar(im)\n",
    "grid[3].set_title(\"I convolved clean map\")\n",
    "im = grid[3].imshow(I_convmodel, origin=\"lower\", interpolation=\"nearest\", cmap=\"cubehelix\")\n",
    "grid[3].cax.colorbar(im)\n",
    "plt.show()"
   ]
  },
  {
   "cell_type": "markdown",
   "metadata": {
    "collapsed": true
   },
   "source": [
    "## Cleaned Linear"
   ]
  },
  {
   "cell_type": "code",
   "execution_count": null,
   "metadata": {
    "collapsed": false
   },
   "outputs": [],
   "source": [
    "F = plt.figure(1,(15,15))\n",
    "grid = ImageGrid(F, 111,  # similar to subplot(111)\n",
    "                nrows_ncols=(2, 2),\n",
    "                direction=\"row\",\n",
    "                axes_pad=0.5,\n",
    "                add_all=True,\n",
    "                label_mode=\"1\",\n",
    "                share_all=True,\n",
    "                cbar_location=\"right\",\n",
    "                cbar_mode=\"each\",\n",
    "                cbar_size=\"3%\")\n",
    "\n",
    "grid[0].set_title(\"Q Restored\")\n",
    "im = grid[0].imshow(Q_restored, origin=\"lower\", interpolation=\"nearest\", cmap=\"cubehelix\")\n",
    "grid[0].cax.colorbar(im)\n",
    "grid[1].set_title(\"Q Residue\")\n",
    "im = grid[1].imshow(Q_residue, origin=\"lower\", interpolation=\"nearest\", cmap=\"cubehelix\")\n",
    "grid[1].cax.colorbar(im)\n",
    "grid[2].set_title(\"Q Dirty\")\n",
    "im = grid[2].imshow(Q, origin=\"lower\", interpolation=\"nearest\", cmap=\"cubehelix\")\n",
    "grid[2].cax.colorbar(im)\n",
    "grid[3].set_title(\"Q convolved clean map\")\n",
    "im = grid[3].imshow(Q_convmodel, origin=\"lower\", interpolation=\"nearest\", cmap=\"cubehelix\")\n",
    "grid[3].cax.colorbar(im)\n",
    "plt.show()\n",
    "\n",
    "F = plt.figure(1,(15,15))\n",
    "grid = ImageGrid(F, 111,  # similar to subplot(111)\n",
    "                nrows_ncols=(2, 2),\n",
    "                direction=\"row\",\n",
    "                axes_pad=0.5,\n",
    "                add_all=True,\n",
    "                label_mode=\"1\",\n",
    "                share_all=True,\n",
    "                cbar_location=\"right\",\n",
    "                cbar_mode=\"each\",\n",
    "                cbar_size=\"3%\")\n",
    "\n",
    "grid[0].set_title(\"U Restored\")\n",
    "im = grid[0].imshow(U_restored, origin=\"lower\", interpolation=\"nearest\", cmap=\"cubehelix\")\n",
    "grid[0].cax.colorbar(im)\n",
    "grid[1].set_title(\"U Residue\")\n",
    "im = grid[1].imshow(U_residue, origin=\"lower\", interpolation=\"nearest\", cmap=\"cubehelix\")\n",
    "grid[1].cax.colorbar(im)\n",
    "grid[2].set_title(\"U Dirty\")\n",
    "im = grid[2].imshow(U, origin=\"lower\", interpolation=\"nearest\", cmap=\"cubehelix\")\n",
    "grid[2].cax.colorbar(im)\n",
    "grid[3].set_title(\"U convolved clean map\")\n",
    "im = grid[3].imshow(U_convmodel, origin=\"lower\", interpolation=\"nearest\", cmap=\"cubehelix\")\n",
    "grid[3].cax.colorbar(im)\n",
    "plt.show()"
   ]
  },
  {
   "cell_type": "code",
   "execution_count": null,
   "metadata": {
    "collapsed": true
   },
   "outputs": [],
   "source": []
  }
 ],
 "metadata": {
  "kernelspec": {
   "display_name": "Python 2",
   "language": "python",
   "name": "python2"
  },
  "language_info": {
   "codemirror_mode": {
    "name": "ipython",
    "version": 2
   },
   "file_extension": ".py",
   "mimetype": "text/x-python",
   "name": "python",
   "nbconvert_exporter": "python",
   "pygments_lexer": "ipython2",
   "version": "2.7.6"
  },
  "widgets": {
   "state": {
    "010d0b8efd4e4d91bd924dc409433942": {
     "views": []
    },
    "0297bb4722ae4ac48c436b33cd31780d": {
     "views": [
      {
       "cell_index": 15
      }
     ]
    },
    "02c8289a0164436eb8d22a5bd8c51aee": {
     "views": []
    },
    "035ca6a2af1a4125810d55cd6c370648": {
     "views": []
    },
    "05c302b9ac714e039d5347426cc116f7": {
     "views": []
    },
    "084c73fb4f6f460b91c3357950b95d73": {
     "views": []
    },
    "08f81807fbb94ab7a322c57b67962fc0": {
     "views": [
      {
       "cell_index": 15
      }
     ]
    },
    "0a41f7e3a19942afa8cd658dc2b5bbbd": {
     "views": []
    },
    "0a5fe56b74814c5b83d55c355c759aab": {
     "views": [
      {
       "cell_index": 15
      }
     ]
    },
    "0b12c844f9b74968a35e965808785c31": {
     "views": []
    },
    "0ba670056bbf4b278daf6509d4012212": {
     "views": []
    },
    "0ca49e2cb80e4c3bba16419e0ad1f584": {
     "views": [
      {
       "cell_index": 15
      }
     ]
    },
    "10f5472f92184103941761362295e664": {
     "views": []
    },
    "18ac9ee9b5a94f76b1d7bc32a7ae305e": {
     "views": []
    },
    "19b7bb8f7e8845d0926e9b696757c883": {
     "views": []
    },
    "1a7dffacb288476297818032ed586885": {
     "views": []
    },
    "1abb268a8793420da8eb27e9a85f96ef": {
     "views": []
    },
    "21710dfa28dc4deabef6de1cfbe6b53e": {
     "views": []
    },
    "24b08b86ee1c487294a6c8550a2601c3": {
     "views": [
      {
       "cell_index": 15
      }
     ]
    },
    "24ffa65c98cb498b9af8b13874472274": {
     "views": []
    },
    "296a8e980e75449989c87d7c81a82438": {
     "views": [
      {
       "cell_index": 15
      }
     ]
    },
    "34a1a1b9549e48548e0579898b99fb90": {
     "views": []
    },
    "366678e701424fe5b6659d52084712b3": {
     "views": []
    },
    "37d6e4345ada4e999ea230ab389914c6": {
     "views": []
    },
    "37e3e8e402b043459737b2eb62a71368": {
     "views": []
    },
    "3bbbfd1dcfc144228072660f11953e7a": {
     "views": []
    },
    "3d39ed7c3c67447f96644fc7ba5670f3": {
     "views": []
    },
    "3fc993a1dce74ebf8f1a9266862d7461": {
     "views": []
    },
    "402267b75634441da6c6e661041d82c3": {
     "views": []
    },
    "42c7bdb9d4b34b82913f7bbbab7b8b9a": {
     "views": []
    },
    "43bc1a795b434459b229a74385f0f46c": {
     "views": []
    },
    "44b0cf1c6dff4cc091ed9fb3dc286826": {
     "views": []
    },
    "474bc85f66ed4d97912f6d3c2b2e5eb2": {
     "views": []
    },
    "47555193d0c141f3b7ab66afbdffd4ad": {
     "views": []
    },
    "47c73b02a250414191bdebacde57b6a2": {
     "views": []
    },
    "4844319ebd3f45f79f301864384eefe2": {
     "views": []
    },
    "4a33a766d0144562b70e27b15d6cccd7": {
     "views": [
      {
       "cell_index": 15
      }
     ]
    },
    "4ae768a588184dbfa956ac79b9244f51": {
     "views": []
    },
    "4ca7cc062c444378a9a7b73820a60bf5": {
     "views": []
    },
    "4cf58184fcb7451b916284e7107d327a": {
     "views": []
    },
    "4eb1bf8e9f3c4d96afc966a466936e7e": {
     "views": []
    },
    "5675f7208d254216b8e7f81ce3949175": {
     "views": []
    },
    "577c9cb50cc84c3690163b6d251b3996": {
     "views": []
    },
    "5aba6c6c4e6242d49d663a9406c3763d": {
     "views": [
      {
       "cell_index": 15
      }
     ]
    },
    "5c485e701cd84feab89446d4111798c8": {
     "views": []
    },
    "5c5cca977fec4c6bb26e6b4980253177": {
     "views": []
    },
    "614971ceb36d414b94e3284dfcefddd6": {
     "views": []
    },
    "66ee4a82fae24fe18bc0b74aa789a285": {
     "views": [
      {
       "cell_index": 15
      }
     ]
    },
    "66f4c1585b8a4e48a68de497b83f78ea": {
     "views": []
    },
    "67620ba6c31742a2a2be302fd59892dd": {
     "views": []
    },
    "685bcded4d8a410fb05906195f570232": {
     "views": []
    },
    "6cf05434645b4b0594f7237993dbe9d3": {
     "views": []
    },
    "72c52ff6ad2140b09fad85c28f8e2195": {
     "views": []
    },
    "7508f4845ed14c12b4f8149e39f16ecd": {
     "views": []
    },
    "753069f254ee4933abb9ccef638d6877": {
     "views": []
    },
    "76135d580f674d8195c58160d94b5909": {
     "views": []
    },
    "76b3387c68df4b439e5ab4a222d36b14": {
     "views": [
      {
       "cell_index": 15
      }
     ]
    },
    "77187e757b1f4161aaa8f65a7dd5f8f7": {
     "views": []
    },
    "77d7228a660b4026995345ed347a3529": {
     "views": []
    },
    "7a5fc1b2f6774058a8ee8de70802cbbd": {
     "views": [
      {
       "cell_index": 15
      }
     ]
    },
    "7bcb1669a77b40b392e8c858fc4bc5d1": {
     "views": []
    },
    "7ca39f27aa404b12bb7c7b8d95eda347": {
     "views": []
    },
    "7f4f2195e9ff4cd9960e4196a5af8990": {
     "views": []
    },
    "7fbfc38ca0f545849db20f81fbea4237": {
     "views": []
    },
    "81d8caa4d36240a2b9051ad01ada716a": {
     "views": []
    },
    "82484cd6029a4c95937bde7e74faf52b": {
     "views": []
    },
    "83b8df1e290a4844a2422800ff4477d1": {
     "views": []
    },
    "8592181d56174972b65f3bfd0592aaec": {
     "views": []
    },
    "87b1bd5b484f4d0fb19f665d320d7e0e": {
     "views": []
    },
    "8bce21db4e9841e0aba0e5c50d2cbb8d": {
     "views": []
    },
    "8f7ddb3f3f8045b395fbc009ca829853": {
     "views": []
    },
    "9081c8fa67ea4e1a949b154839d3a639": {
     "views": [
      {
       "cell_index": 15
      }
     ]
    },
    "92165f0a49df4246b64417dc85f88249": {
     "views": []
    },
    "9470439756604c40b4290ba1033a0cf8": {
     "views": []
    },
    "9691709cf9594989b0afb1866e8ee759": {
     "views": []
    },
    "96cff37428b841609795d45ddca1e79f": {
     "views": []
    },
    "9a94405c0bd740c5966724a6a9c97a01": {
     "views": []
    },
    "9bca14ef98e2492f86ed7ec8f429c1f5": {
     "views": []
    },
    "9c0ca266934d4f368573a51cb7754605": {
     "views": []
    },
    "9cecab878f0a4b9296ddcf0ecff3f6d3": {
     "views": []
    },
    "a04c7ab4c6c349f7ae2184c165e740f1": {
     "views": [
      {
       "cell_index": 15
      }
     ]
    },
    "a1105a2945a444a196177f5b3e85d0a4": {
     "views": []
    },
    "a2661e00c51541c7ba726378ba5b4659": {
     "views": [
      {
       "cell_index": 15
      }
     ]
    },
    "a40b98f071954fe49e6efdf1615b492a": {
     "views": []
    },
    "a55a1b4e18364e5b8230fb606e72c84f": {
     "views": []
    },
    "a6261e3bacf84a119dcb078701569768": {
     "views": []
    },
    "a704c52aba444d9793599b7881cca8c4": {
     "views": []
    },
    "aae884c9a88746e0a2254cd009d4accb": {
     "views": [
      {
       "cell_index": 15
      }
     ]
    },
    "ab4f4d109d2c498983305c23f993929b": {
     "views": []
    },
    "aeaf8945fa3d4046a908eb739fc6372a": {
     "views": []
    },
    "af8ebaeac85e419ab63f69565fcaefb0": {
     "views": []
    },
    "b481ef52b6b64980b3a4a97b038e6a41": {
     "views": []
    },
    "b6ca5c4a8942422d9c82edf4ba170855": {
     "views": []
    },
    "bad2902b53a34d218fdf3eaa1ee78bd3": {
     "views": []
    },
    "bb6b398c431e46948a7f8ada83986096": {
     "views": []
    },
    "bbcf0f9cff194dfabb5c7870ed820662": {
     "views": []
    },
    "bc63efc488fb4467b915a8f5fd51475e": {
     "views": []
    },
    "bc9c99321a5448c380c15bc6ea7d2603": {
     "views": [
      {
       "cell_index": 15
      }
     ]
    },
    "bd11d315a5164e4b899bbc91ca884b2c": {
     "views": []
    },
    "bffcd958075842619c6408838a88825c": {
     "views": [
      {
       "cell_index": 15
      }
     ]
    },
    "c1077ef87dfa4f3ab63c4197daafaed9": {
     "views": [
      {
       "cell_index": 7
      }
     ]
    },
    "c204390135384df68424f38a77e238d3": {
     "views": []
    },
    "c339f9f67c7742eb9dde5c95279f931e": {
     "views": []
    },
    "c5d65607b3c944539e1f82cc4a03dcb3": {
     "views": []
    },
    "cd7e5216226448ce87d9278006cd3e3d": {
     "views": [
      {
       "cell_index": 15
      }
     ]
    },
    "d88779c4b6be4f14b9ea67f4e6fd6406": {
     "views": []
    },
    "d9498e1d31104c7c8c0afc968846e820": {
     "views": []
    },
    "df2a17e4eb5343c2afb4746734589286": {
     "views": []
    },
    "dfaf20301f4349ba88888fe72c4e2555": {
     "views": []
    },
    "e15412be77244985b5cec48ea9b8d2e2": {
     "views": [
      {
       "cell_index": 15
      }
     ]
    },
    "e6b972b346ca476d88ce0c1bbb53dd59": {
     "views": []
    },
    "e7d47438b1434752a12559d26c51345d": {
     "views": []
    },
    "e9efc6e956754189bcbe74510d3987a4": {
     "views": []
    },
    "ecba69b49bc14cd59278ac3eeccb788f": {
     "views": []
    },
    "ecd6cef4925d4579923eb1b499a244f3": {
     "views": []
    },
    "eef58bb8cbfc428ca8ddc07f79d6b1c7": {
     "views": []
    },
    "ef6f9860517346819e30eb0ab07344ff": {
     "views": []
    },
    "f14b81d88c9740758c2a153f3ae5d51d": {
     "views": []
    },
    "f5e14af650484a52b713ad8505f013eb": {
     "views": []
    },
    "fa860fb6f7254fa2a98a65651316d2e7": {
     "views": []
    },
    "fd76993071af47db803f523b8ae68757": {
     "views": [
      {
       "cell_index": 15
      }
     ]
    },
    "fdb12fc533634438a9af77428ac3522d": {
     "views": []
    },
    "fecdab236cb34f899b54ce5881717b7a": {
     "views": []
    },
    "ffba500d912f4d2980a6ec33657a0258": {
     "views": []
    }
   },
   "version": "1.1.1"
  }
 },
 "nbformat": 4,
 "nbformat_minor": 0
}
