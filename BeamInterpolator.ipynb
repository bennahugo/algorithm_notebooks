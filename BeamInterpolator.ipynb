{
 "cells": [
  {
   "cell_type": "code",
   "execution_count": null,
   "metadata": {
    "collapsed": false
   },
   "outputs": [],
   "source": [
    "from astropy.io import fits\n",
    "from matplotlib import pyplot as plt\n",
    "import numpy as np\n",
    "from mpl_toolkits.axes_grid1 import ImageGrid\n",
    "from IPython.display import clear_output\n",
    "from IPython.html import widgets \n",
    "from IPython.display import display, clear_output\n",
    "from plotly.widgets import GraphWidget\n",
    "from IPython.html.widgets import FloatProgress\n",
    "%matplotlib inline"
   ]
  },
  {
   "cell_type": "code",
   "execution_count": null,
   "metadata": {
    "collapsed": false
   },
   "outputs": [],
   "source": [
    "drange = np.linspace(-np.pi*4,np.pi*4,512)\n",
    "data = np.sin(drange)\n",
    "\n",
    "fit_coef = np.polynomial.chebyshev.chebfit(drange,data,30)\n",
    "cheby = np.polynomial.chebyshev.chebval(drange,fit_coef)\n",
    "plt.figure()\n",
    "plt.plot(drange,data,\"r\")\n",
    "plt.plot(drange,cheby,\"b\")\n",
    "plt.show()"
   ]
  },
  {
   "cell_type": "markdown",
   "metadata": {},
   "source": [
    "### Fit along columns per channel"
   ]
  },
  {
   "cell_type": "code",
   "execution_count": null,
   "metadata": {
    "collapsed": false
   },
   "outputs": [],
   "source": [
    "hdr = fits.open(\"/scratch/WORKSPACE/DDFacetTesting/data/beams/JVLA-L-centred-ll_ampl.fits\")\n",
    "img_data = hdr[0].data\n",
    "\n",
    "reconstructed = np.zeros(img_data.shape)\n",
    "POLY_ORDER = 70\n",
    "cheby_fits = np.zeros([img_data.shape[0], img_data.shape[1], POLY_ORDER+1])\n",
    "col_range = np.arange(img_data.shape[2])\n",
    "pbar_fit = FloatProgress(min=0, max=100)\n",
    "display(pbar_fit)\n",
    "for ch in range(img_data.shape[0]):\n",
    "    pbar_fit.value = ch / float(img_data.shape[0]) * 100.0\n",
    "    for row in range(img_data.shape[1]):\n",
    "        cheby_fits[ch,row,:] = np.polynomial.chebyshev.chebfit(col_range,\n",
    "                                                               img_data[ch,row,:],POLY_ORDER)\n",
    "        reconstructed[ch,row,:] = np.polynomial.chebyshev.chebval(col_range,\n",
    "                                                                  cheby_fits[ch,row,:])\n",
    "print \"Done fitting...\""
   ]
  },
  {
   "cell_type": "markdown",
   "metadata": {},
   "source": [
    "### Fit along channel"
   ]
  },
  {
   "cell_type": "code",
   "execution_count": null,
   "metadata": {
    "collapsed": false
   },
   "outputs": [],
   "source": [
    "POLY_ORDER = 36\n",
    "img_corr = \"RL\"\n",
    "\n",
    "hdr = fits.open(\"/scratch/JVLA_HOLOGRAPHY/JVLA-L/ant10\"+img_corr+\"real.fits\")\n",
    "img_data_real = hdr[0].data\n",
    "hdr.close()\n",
    "hdr = fits.open(\"/scratch/JVLA_HOLOGRAPHY/JVLA-L/ant10\"+img_corr+\"imag.fits\")\n",
    "img_data_imag = hdr[0].data\n",
    "hdr.close()\n",
    "\n",
    "flattened_real_view = img_data_real.reshape((img_data_real.shape[0],\n",
    "                                  img_data_real.shape[1]*img_data_real.shape[2]))\n",
    "flattened_imag_view = img_data_imag.reshape((img_data_imag.shape[0],\n",
    "                                  img_data_imag.shape[1]*img_data_imag.shape[2]))\n",
    "pxrange = np.arange(flattened_real_view.shape[1])\n",
    "chrange = np.arange(flattened_real_view.shape[0])\n",
    "\n",
    "flattened_real_reconstructed = np.zeros(flattened_real_view.shape)\n",
    "flattened_imag_reconstructed = np.zeros(flattened_imag_view.shape)\n",
    "cheby_real_coef = np.zeros([flattened_real_view.shape[1],POLY_ORDER+1])\n",
    "cheby_imag_coef = np.zeros([flattened_imag_view.shape[1],POLY_ORDER+1])\n",
    "\n",
    "pbar_fit = FloatProgress(min=0, max=100)\n",
    "display(pbar_fit)\n",
    "for px in pxrange:\n",
    "    pbar_fit.value = px / float(flattened_real_view.shape[1]) * 100.0\n",
    "    cheby_real_coef[px,:] = np.polynomial.chebyshev.chebfit(chrange,flattened_real_view[:,px],POLY_ORDER)\n",
    "    flattened_real_reconstructed[:,px] = np.polynomial.chebyshev.chebval(chrange,cheby_real_coef[px,:])\n",
    "    cheby_imag_coef[px,:] = np.polynomial.chebyshev.chebfit(chrange,flattened_imag_view[:,px],POLY_ORDER)\n",
    "    flattened_imag_reconstructed[:,px] = np.polynomial.chebyshev.chebval(chrange,cheby_imag_coef[px,:])\n",
    "reconstructed_real = flattened_real_reconstructed.reshape(img_data_real.shape)\n",
    "reconstructed_imag = flattened_imag_reconstructed.reshape(img_data_imag.shape)\n",
    "\n",
    "diff_img_real = img_data_real - reconstructed_real\n",
    "diff_img_imag = img_data_imag - reconstructed_imag\n",
    "print \"Done fitting...\""
   ]
  },
  {
   "cell_type": "code",
   "execution_count": null,
   "metadata": {
    "collapsed": false
   },
   "outputs": [],
   "source": [
    "channel_slider = widgets.IntSlider()\n",
    "channel_slider.min= 0\n",
    "channel_slider.max= flattened_real_view.shape[0]-1\n",
    "channel_slider.value = 0\n",
    "channel_slider.description = 'Channel'\n",
    "F = plt.figure(1,(15,15))\n",
    "grid = ImageGrid(F, 111,  # similar to subplot(111)\n",
    "        nrows_ncols=(2, 3),\n",
    "        direction=\"row\",\n",
    "        axes_pad=0.5,\n",
    "        add_all=True,\n",
    "        label_mode=\"1\",\n",
    "        share_all=True,\n",
    "        cbar_location=\"right\",\n",
    "        cbar_mode=\"each\",\n",
    "        cbar_size=\"3%\")\n",
    "im0 = grid[0].imshow(img_data_real[channel_slider.value], interpolation=\"nearest\", cmap=\"cubehelix\")\n",
    "im1 = grid[1].imshow(reconstructed_real[channel_slider.value], interpolation=\"nearest\", cmap=\"cubehelix\")\n",
    "im2 = grid[2].imshow(diff_img_real[channel_slider.value], interpolation=\"nearest\", cmap=\"cubehelix\")\n",
    "im3 = grid[3].imshow(img_data_imag[channel_slider.value], interpolation=\"nearest\", cmap=\"cubehelix\")\n",
    "im4 = grid[4].imshow(reconstructed_imag[channel_slider.value], interpolation=\"nearest\", cmap=\"cubehelix\")\n",
    "im5 = grid[5].imshow(diff_img_imag[channel_slider.value], interpolation=\"nearest\", cmap=\"cubehelix\")\n",
    "grid[0].set_title(\"Beam RE\")\n",
    "grid[1].set_title(\"Reconstructed RE\")\n",
    "grid[2].set_title(\"RE difference\")\n",
    "grid[3].set_title(\"Beam IM\")\n",
    "grid[4].set_title(\"Reconstructed IM\")\n",
    "grid[5].set_title(\"IM difference\")\n",
    "\n",
    "grid[0].cax.colorbar(im0)\n",
    "grid[1].cax.colorbar(im1)\n",
    "grid[2].cax.colorbar(im2)\n",
    "grid[3].cax.colorbar(im3)\n",
    "grid[4].cax.colorbar(im4)\n",
    "grid[5].cax.colorbar(im5)\n",
    "def animate():\n",
    "    clear_output(wait=True)\n",
    "    im0.set_data(img_data_real[channel_slider.value])\n",
    "    im1.set_data(reconstructed_real[channel_slider.value])\n",
    "    im2.set_data(diff_img_real[channel_slider.value])\n",
    "    im3.set_data(img_data_imag[channel_slider.value])\n",
    "    im4.set_data(reconstructed_imag[channel_slider.value])\n",
    "    im5.set_data(diff_img_imag[channel_slider.value])\n",
    "    grid[0].cax.colorbar(im0)\n",
    "    grid[1].cax.colorbar(im1)\n",
    "    grid[2].cax.colorbar(im2)\n",
    "    grid[3].cax.colorbar(im3)\n",
    "    grid[4].cax.colorbar(im4)\n",
    "    grid[5].cax.colorbar(im5)\n",
    "    plt.draw()\n",
    "    display(F)\n",
    "channel_slider.on_trait_change(animate, 'value')\n",
    "display(channel_slider)"
   ]
  },
  {
   "cell_type": "code",
   "execution_count": null,
   "metadata": {
    "collapsed": true
   },
   "outputs": [],
   "source": []
  },
  {
   "cell_type": "code",
   "execution_count": null,
   "metadata": {
    "collapsed": true
   },
   "outputs": [],
   "source": []
  }
 ],
 "metadata": {
  "kernelspec": {
   "display_name": "Python 2",
   "language": "python",
   "name": "python2"
  },
  "language_info": {
   "codemirror_mode": {
    "name": "ipython",
    "version": 2
   },
   "file_extension": ".py",
   "mimetype": "text/x-python",
   "name": "python",
   "nbconvert_exporter": "python",
   "pygments_lexer": "ipython2",
   "version": "2.7.6"
  },
  "widgets": {
   "state": {
    "0dbefbb17521490888910a31a0de56a3": {
     "views": []
    },
    "478d359a1f5e458aa0cc76deb30cad7d": {
     "views": [
      {
       "cell_index": 6
      }
     ]
    },
    "54b2a41353734a1cb27d813e07ad934b": {
     "views": []
    },
    "56b753ee45f645a4ab25da5353c36f2c": {
     "views": []
    },
    "575421a3bb1d49608f10aa35376a10e3": {
     "views": []
    },
    "687511a69c024d5394a12b9916c1c925": {
     "views": []
    },
    "6fe54e684e60450e88682a3747a09980": {
     "views": []
    },
    "7d3020e6e3ed4ed4976c451bc5fba284": {
     "views": []
    },
    "954a7d3dd1474b19846e92f42ce2f6ed": {
     "views": []
    },
    "9c9fac3f64ff4cdba73cb2b5e7be016f": {
     "views": []
    },
    "a20eec2d71b14e1cbe889be30ac83965": {
     "views": []
    },
    "abd570a7baef4118b00645354b65d89b": {
     "views": []
    },
    "c8376b73b4fc40ba8bd50b66cef8ce05": {
     "views": [
      {
       "cell_index": 5
      }
     ]
    },
    "de3c3e4a6a3b496fa435f7efdcb2fdeb": {
     "views": []
    },
    "e1f09c77392149759c7903a0d19df26e": {
     "views": []
    },
    "f9e075c8d4064e9a86be31b03caddc9e": {
     "views": []
    }
   },
   "version": "1.1.1"
  }
 },
 "nbformat": 4,
 "nbformat_minor": 0
}
