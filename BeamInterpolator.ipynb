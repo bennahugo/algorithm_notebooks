{
 "cells": [
  {
   "cell_type": "code",
   "execution_count": null,
   "metadata": {
    "collapsed": false
   },
   "outputs": [],
   "source": [
    "from astropy.io import fits\n",
    "from matplotlib import pyplot as plt\n",
    "import numpy as np\n",
    "from mpl_toolkits.axes_grid1 import ImageGrid\n",
    "from IPython.display import clear_output\n",
    "from IPython.html import widgets \n",
    "from IPython.display import display, clear_output\n",
    "from plotly.widgets import GraphWidget\n",
    "from IPython.html.widgets import FloatProgress\n",
    "%matplotlib inline"
   ]
  },
  {
   "cell_type": "markdown",
   "metadata": {},
   "source": [
    "### Fit along channel"
   ]
  },
  {
   "cell_type": "code",
   "execution_count": null,
   "metadata": {
    "collapsed": true
   },
   "outputs": [],
   "source": [
    "POLY_ORDER = 30\n",
    "BEAT_TERMS = 15\n",
    "img_corr = \"RL\""
   ]
  },
  {
   "cell_type": "code",
   "execution_count": null,
   "metadata": {
    "collapsed": false
   },
   "outputs": [],
   "source": [
    "hdr = fits.open(\"/scratch/JVLA_HOLOGRAPHY/JVLA-L/ant10\"+img_corr+\"real.fits\")\n",
    "img_data_real = hdr[0].data\n",
    "hdr.close()\n",
    "hdr = fits.open(\"/scratch/JVLA_HOLOGRAPHY/JVLA-L/ant10\"+img_corr+\"imag.fits\")\n",
    "img_data_imag = hdr[0].data\n",
    "hdr.close()\n",
    "\n",
    "flattened_real_view = img_data_real.reshape((img_data_real.shape[0],\n",
    "                                  img_data_real.shape[1]*img_data_real.shape[2]))\n",
    "flattened_imag_view = img_data_imag.reshape((img_data_imag.shape[0],\n",
    "                                  img_data_imag.shape[1]*img_data_imag.shape[2]))\n",
    "pxrange = np.arange(flattened_real_view.shape[1])\n",
    "chrange = np.arange(flattened_real_view.shape[0])\n",
    "\n",
    "flattened_real_reconstructed = np.zeros(flattened_real_view.shape)\n",
    "flattened_imag_reconstructed = np.zeros(flattened_imag_view.shape)\n",
    "cheby_real_coef = np.zeros([flattened_real_view.shape[1],POLY_ORDER+1])\n",
    "cheby_imag_coef = np.zeros([flattened_imag_view.shape[1],POLY_ORDER+1])\n",
    "\n",
    "pbar_fit = FloatProgress(min=0, max=100)\n",
    "display(pbar_fit)\n",
    "for px in pxrange:\n",
    "    pbar_fit.value = px / float(flattened_real_view.shape[1]) * 100.0\n",
    "    cheby_real_coef[px,:] = np.polynomial.chebyshev.chebfit(chrange,flattened_real_view[:,px],POLY_ORDER)\n",
    "    flattened_real_reconstructed[:,px] = np.polynomial.chebyshev.chebval(chrange,cheby_real_coef[px,:])\n",
    "    cheby_imag_coef[px,:] = np.polynomial.chebyshev.chebfit(chrange,flattened_imag_view[:,px],POLY_ORDER)\n",
    "    flattened_imag_reconstructed[:,px] = np.polynomial.chebyshev.chebval(chrange,cheby_imag_coef[px,:])\n",
    "reconstructed_real = flattened_real_reconstructed.reshape(img_data_real.shape)\n",
    "reconstructed_imag = flattened_imag_reconstructed.reshape(img_data_imag.shape)\n",
    "\n",
    "diff_img_real = img_data_real - reconstructed_real\n",
    "diff_img_imag = img_data_imag - reconstructed_imag\n",
    "print \"Done fitting...\""
   ]
  },
  {
   "cell_type": "code",
   "execution_count": null,
   "metadata": {
    "collapsed": false
   },
   "outputs": [],
   "source": [
    "def compute_beat(l,m,img_data,reconstructed,n_term):\n",
    "    residue = img_data[:,l,m]-reconstructed[:,l,m]\n",
    "    freq_decomposition = np.fft.fft(residue)\n",
    "    norm_term = float(residue.shape[0])\n",
    "    threshold = np.min(np.sort(np.abs(freq_decomposition)[1:residue.shape[0]/2])[:-n_term:-1])\n",
    "    beat_coef_args = np.where(np.abs(freq_decomposition) < threshold)\n",
    "    freq_decomposition[beat_coef_args] = 0\n",
    "    beat = np.real(np.fft.ifft(freq_decomposition))\n",
    "#     beat_coef_values = freq_decomposition[beat_coef_args[0:n_term]] / norm_term\n",
    "#     beat = np.zeros(residue.shape)\n",
    "#     for cid in range(n_term-1):\n",
    "#         beat += np.real(beat_coef_values[cid] * np.exp(2.0j*np.pi*\n",
    "#                                                        beat_coef_args[cid]/float(residue.shape[0]) *\n",
    "#                                                        np.arange(residue.shape[0])))\n",
    "    return beat\n",
    "\n",
    "pbar_fit = FloatProgress(min=0, max=100)\n",
    "display(pbar_fit)\n",
    "reconstructed_real_with_beating = np.zeros(reconstructed_real.shape)\n",
    "reconstructed_imag_with_beating = np.zeros(reconstructed_imag.shape)\n",
    "for l in range(img_data_real.shape[1]):\n",
    "    pbar_fit.value = l / float(img_data_real.shape[1]) * 100.0\n",
    "    for m in range(img_data_real.shape[2]):\n",
    "        reconstructed_real_with_beating[:,l,m] = reconstructed_real[:,l,m] + compute_beat(l,m,img_data_real,reconstructed_real,n_term=BEAT_TERMS)\n",
    "        reconstructed_imag_with_beating[:,l,m] = reconstructed_imag[:,l,m] + compute_beat(l,m,img_data_imag,reconstructed_imag,n_term=BEAT_TERMS)\n",
    "diff_img_real_with_beating = img_data_real - reconstructed_real_with_beating\n",
    "diff_img_imag_with_beating = img_data_imag - reconstructed_imag_with_beating\n",
    "print \"Done adding beating residual...\""
   ]
  },
  {
   "cell_type": "code",
   "execution_count": null,
   "metadata": {
    "collapsed": false
   },
   "outputs": [],
   "source": [
    "channel_slider = widgets.IntSlider()\n",
    "channel_slider.min= 0\n",
    "channel_slider.max= flattened_real_view.shape[0]-1\n",
    "channel_slider.value = 0\n",
    "channel_slider.description = 'Channel'\n",
    "F = plt.figure(1,(15,15))\n",
    "grid = ImageGrid(F, 111,  # similar to subplot(111)\n",
    "        nrows_ncols=(2, 4),\n",
    "        direction=\"row\",\n",
    "        axes_pad=0.5,\n",
    "        add_all=True,\n",
    "        label_mode=\"1\",\n",
    "        share_all=True,\n",
    "        cbar_location=\"right\",\n",
    "        cbar_mode=\"each\",\n",
    "        cbar_size=\"3%\")\n",
    "im0 = grid[0].imshow(img_data_real[channel_slider.value], interpolation=\"nearest\", cmap=\"cubehelix\")\n",
    "im1 = grid[1].imshow(reconstructed_real[channel_slider.value], interpolation=\"nearest\", cmap=\"cubehelix\")\n",
    "im2 = grid[2].imshow(diff_img_real[channel_slider.value], interpolation=\"nearest\", cmap=\"cubehelix\")\n",
    "im3 = grid[3].imshow(diff_img_real_with_beating[channel_slider.value], interpolation=\"nearest\", cmap=\"cubehelix\")\n",
    "im4 = grid[4].imshow(img_data_imag[channel_slider.value], interpolation=\"nearest\", cmap=\"cubehelix\")\n",
    "im5 = grid[5].imshow(reconstructed_imag[channel_slider.value], interpolation=\"nearest\", cmap=\"cubehelix\")\n",
    "im6 = grid[6].imshow(diff_img_imag[channel_slider.value], interpolation=\"nearest\", cmap=\"cubehelix\")\n",
    "im7 = grid[7].imshow(diff_img_imag_with_beating[channel_slider.value], interpolation=\"nearest\", cmap=\"cubehelix\")\n",
    "grid[0].set_title(\"Beam RE\")\n",
    "grid[1].set_title(\"Reconstructed RE\")\n",
    "grid[2].set_title(\"RE difference\")\n",
    "grid[3].set_title(\"RE difference (with beating)\")\n",
    "grid[4].set_title(\"Beam IM\")\n",
    "grid[5].set_title(\"Reconstructed IM\")\n",
    "grid[6].set_title(\"IM difference\")\n",
    "grid[7].set_title(\"IM difference (with beating)\")\n",
    "grid[0].cax.colorbar(im0)\n",
    "grid[1].cax.colorbar(im1)\n",
    "grid[2].cax.colorbar(im2)\n",
    "grid[3].cax.colorbar(im3)\n",
    "grid[4].cax.colorbar(im4)\n",
    "grid[5].cax.colorbar(im5)\n",
    "grid[6].cax.colorbar(im6)\n",
    "grid[7].cax.colorbar(im7)\n",
    "\n",
    "def stats(ch):\n",
    "    print \"RMS Real (w/o beating): %f\" % np.sqrt(np.mean(diff_img_real[ch]**2))\n",
    "    print \"RMS Real (with beating): %f\" % np.sqrt(np.mean(diff_img_real_with_beating[ch]**2))\n",
    "    print \"RMS Imag (w/o beating): %f\" % np.sqrt(np.mean(diff_img_imag[ch]**2))\n",
    "    print \"RMS Imag (with beating): %f\" % np.sqrt(np.mean(diff_img_imag_with_beating[ch]**2))\n",
    "stats(0)    \n",
    "def animate():\n",
    "    clear_output(wait=True)\n",
    "    stats(channel_slider.value)\n",
    "    im0.set_data(img_data_real[channel_slider.value])\n",
    "    im1.set_data(reconstructed_real[channel_slider.value])\n",
    "    im2.set_data(diff_img_real[channel_slider.value])\n",
    "    im3.set_data(diff_img_real_with_beating[channel_slider.value])\n",
    "    im4.set_data(img_data_imag[channel_slider.value])\n",
    "    im5.set_data(reconstructed_imag[channel_slider.value])\n",
    "    im6.set_data(diff_img_imag[channel_slider.value])\n",
    "    im7.set_data(diff_img_imag_with_beating[channel_slider.value])\n",
    "    grid[0].cax.colorbar(im0)\n",
    "    grid[1].cax.colorbar(im1)\n",
    "    grid[2].cax.colorbar(im2)\n",
    "    grid[3].cax.colorbar(im3)\n",
    "    grid[4].cax.colorbar(im4)\n",
    "    grid[5].cax.colorbar(im5)\n",
    "    grid[6].cax.colorbar(im6)\n",
    "    grid[7].cax.colorbar(im7)\n",
    "    plt.draw()\n",
    "    display(F)\n",
    "channel_slider.on_trait_change(animate, 'value')\n",
    "display(channel_slider)"
   ]
  },
  {
   "cell_type": "code",
   "execution_count": null,
   "metadata": {
    "collapsed": false
   },
   "outputs": [],
   "source": [
    "def plot_beam_px(l,m):\n",
    "    plt.figure(1,(15,15))\n",
    "    plt.plot(img_data_real[:,l,m])\n",
    "    plt.plot(reconstructed_real[:,l,m])\n",
    "    plt.plot(reconstructed_real_with_beating[:,l,m])\n",
    "    plt.show()\n",
    "plot_beam_px(55,55)"
   ]
  },
  {
   "cell_type": "code",
   "execution_count": null,
   "metadata": {
    "collapsed": true
   },
   "outputs": [],
   "source": []
  },
  {
   "cell_type": "code",
   "execution_count": null,
   "metadata": {
    "collapsed": true
   },
   "outputs": [],
   "source": []
  }
 ],
 "metadata": {
  "kernelspec": {
   "display_name": "Python 2",
   "language": "python",
   "name": "python2"
  },
  "language_info": {
   "codemirror_mode": {
    "name": "ipython",
    "version": 2
   },
   "file_extension": ".py",
   "mimetype": "text/x-python",
   "name": "python",
   "nbconvert_exporter": "python",
   "pygments_lexer": "ipython2",
   "version": "2.7.6"
  },
  "widgets": {
   "state": {
    "1fc5c03627d7423ca52714eaca7e4be9": {
     "views": []
    },
    "3dee0700eefc4f05a7a15cd029186cf2": {
     "views": []
    },
    "5008ec5e7d634e10be64cd378abd6e33": {
     "views": [
      {
       "cell_index": 3
      }
     ]
    },
    "85e7fb56366641628c03d15d6d863e3d": {
     "views": [
      {
       "cell_index": 4
      }
     ]
    },
    "9cc309e39351497a8ee865504f3cb665": {
     "views": [
      {
       "cell_index": 5
      }
     ]
    },
    "eb972d9e040c47e29ffbf2f1feb4ab3d": {
     "views": []
    }
   },
   "version": "1.1.1"
  }
 },
 "nbformat": 4,
 "nbformat_minor": 0
}
