{
 "cells": [
  {
   "cell_type": "code",
   "execution_count": null,
   "metadata": {
    "collapsed": false
   },
   "outputs": [],
   "source": [
    "from astropy.io import fits\n",
    "from matplotlib import pyplot as plt\n",
    "import numpy as np\n",
    "from mpl_toolkits.axes_grid1 import ImageGrid\n",
    "from IPython.display import clear_output\n",
    "from IPython.html import widgets \n",
    "from IPython.display import display, clear_output\n",
    "from plotly.widgets import GraphWidget\n",
    "from IPython.html.widgets import FloatProgress\n",
    "%matplotlib inline"
   ]
  },
  {
   "cell_type": "code",
   "execution_count": null,
   "metadata": {
    "collapsed": false
   },
   "outputs": [],
   "source": [
    "drange = np.linspace(-np.pi*4,np.pi*4,512)\n",
    "data = np.sin(drange)\n",
    "\n",
    "fit_coef = np.polynomial.chebyshev.chebfit(drange,data,30)\n",
    "cheby = np.polynomial.chebyshev.chebval(drange,fit_coef)\n",
    "plt.figure()\n",
    "plt.plot(drange,data,\"r\")\n",
    "plt.plot(drange,cheby,\"b\")\n",
    "plt.show()"
   ]
  },
  {
   "cell_type": "markdown",
   "metadata": {},
   "source": [
    "### Fit along columns per channel"
   ]
  },
  {
   "cell_type": "code",
   "execution_count": null,
   "metadata": {
    "collapsed": false
   },
   "outputs": [],
   "source": [
    "hdr = fits.open(\"/scratch/WORKSPACE/DDFacetTesting/data/beams/JVLA-L-centred-ll_ampl.fits\")\n",
    "img_data = hdr[0].data\n",
    "\n",
    "reconstructed = np.zeros(img_data.shape)\n",
    "POLY_ORDER = 70\n",
    "cheby_fits = np.zeros([img_data.shape[0], img_data.shape[1], POLY_ORDER+1])\n",
    "col_range = np.arange(img_data.shape[2])\n",
    "pbar_fit = FloatProgress(min=0, max=100)\n",
    "display(pbar_fit)\n",
    "for ch in range(img_data.shape[0]):\n",
    "    pbar_fit.value = ch / float(img_data.shape[0]) * 100.0\n",
    "    for row in range(img_data.shape[1]):\n",
    "        cheby_fits[ch,row,:] = np.polynomial.chebyshev.chebfit(col_range,\n",
    "                                                               img_data[ch,row,:],POLY_ORDER)\n",
    "        reconstructed[ch,row,:] = np.polynomial.chebyshev.chebval(col_range,\n",
    "                                                                  cheby_fits[ch,row,:])\n",
    "print \"Done fitting...\""
   ]
  },
  {
   "cell_type": "markdown",
   "metadata": {},
   "source": [
    "### Fit along channel"
   ]
  },
  {
   "cell_type": "code",
   "execution_count": null,
   "metadata": {
    "collapsed": false
   },
   "outputs": [],
   "source": [
    "POLY_ORDER = 6\n",
    "img_corr = \"RR\"\n",
    "\n",
    "hdr = fits.open(\"/scratch/JVLA_HOLOGRAPHY/JVLA-L/ant10\"+img_corr+\"real.fits\")\n",
    "img_data_real = hdr[0].data\n",
    "hdr.close()\n",
    "hdr = fits.open(\"/scratch/JVLA_HOLOGRAPHY/JVLA-L/ant10\"+img_corr+\"imag.fits\")\n",
    "img_data_imag = hdr[0].data\n",
    "hdr.close()\n",
    "\n",
    "flattened_real_view = img_data_real.reshape((img_data_real.shape[0],\n",
    "                                  img_data_real.shape[1]*img_data_real.shape[2]))\n",
    "flattened_imag_view = img_data_imag.reshape((img_data_imag.shape[0],\n",
    "                                  img_data_imag.shape[1]*img_data_imag.shape[2]))\n",
    "pxrange = np.arange(flattened_real_view.shape[1])\n",
    "chrange = np.arange(flattened_real_view.shape[0])\n",
    "\n",
    "flattened_real_reconstructed = np.zeros(flattened_real_view.shape)\n",
    "flattened_imag_reconstructed = np.zeros(flattened_imag_view.shape)\n",
    "cheby_real_coef = np.zeros([flattened_real_view.shape[1],POLY_ORDER+1])\n",
    "cheby_imag_coef = np.zeros([flattened_imag_view.shape[1],POLY_ORDER+1])\n",
    "\n",
    "pbar_fit = FloatProgress(min=0, max=100)\n",
    "display(pbar_fit)\n",
    "for px in pxrange:\n",
    "    pbar_fit.value = px / float(flattened_view.shape[1]) * 100.0\n",
    "    cheby_real_coef[px,:] = np.polynomial.chebyshev.chebfit(chrange,flattened_real_view[:,px],POLY_ORDER)\n",
    "    flattened_real_reconstructed[:,px] = np.polynomial.chebyshev.chebval(chrange,cheby_real_coef[px,:])\n",
    "    cheby_imag_coef[px,:] = np.polynomial.chebyshev.chebfit(chrange,flattened_imag_view[:,px],POLY_ORDER)\n",
    "    flattened_imag_reconstructed[:,px] = np.polynomial.chebyshev.chebval(chrange,cheby_imag_coef[px,:])\n",
    "reconstructed_real = flattened_real_reconstructed.reshape(img_data_real.shape)\n",
    "reconstructed_imag = flattened_imag_reconstructed.reshape(img_data_imag.shape)\n",
    "\n",
    "diff_img_real = img_data_real - reconstructed_real\n",
    "diff_img_imag = img_data_imag - reconstructed_imag\n",
    "print \"Done fitting...\""
   ]
  },
  {
   "cell_type": "code",
   "execution_count": null,
   "metadata": {
    "collapsed": false
   },
   "outputs": [],
   "source": [
    "channel_slider = widgets.IntSlider()\n",
    "channel_slider.min= 0\n",
    "channel_slider.max= flattened_view.shape[0]-1\n",
    "channel_slider.value = 0\n",
    "channel_slider.description = 'Channel'\n",
    "F = plt.figure(1,(15,15))\n",
    "grid = ImageGrid(F, 111,  # similar to subplot(111)\n",
    "        nrows_ncols=(2, 3),\n",
    "        direction=\"row\",\n",
    "        axes_pad=0.5,\n",
    "        add_all=True,\n",
    "        label_mode=\"1\",\n",
    "        share_all=True,\n",
    "        cbar_location=\"right\",\n",
    "        cbar_mode=\"each\",\n",
    "        cbar_size=\"3%\")\n",
    "im0 = grid[0].imshow(img_data_real[channel_slider.value], interpolation=\"nearest\", cmap=\"cubehelix\")\n",
    "im1 = grid[1].imshow(reconstructed_real[channel_slider.value], interpolation=\"nearest\", cmap=\"cubehelix\")\n",
    "im2 = grid[2].imshow(diff_img_real[channel_slider.value], interpolation=\"nearest\", cmap=\"cubehelix\")\n",
    "im3 = grid[3].imshow(img_data_imag[channel_slider.value], interpolation=\"nearest\", cmap=\"cubehelix\")\n",
    "im4 = grid[4].imshow(reconstructed_imag[channel_slider.value], interpolation=\"nearest\", cmap=\"cubehelix\")\n",
    "im5 = grid[5].imshow(diff_img_imag[channel_slider.value], interpolation=\"nearest\", cmap=\"cubehelix\")\n",
    "grid[0].set_title(\"Beam RE\")\n",
    "grid[1].set_title(\"Reconstructed RE\")\n",
    "grid[2].set_title(\"RE difference\")\n",
    "grid[3].set_title(\"Beam IM\")\n",
    "grid[4].set_title(\"Reconstructed IM\")\n",
    "grid[5].set_title(\"IM difference\")\n",
    "\n",
    "grid[0].cax.colorbar(im0)\n",
    "grid[1].cax.colorbar(im1)\n",
    "grid[2].cax.colorbar(im2)\n",
    "grid[3].cax.colorbar(im3)\n",
    "grid[4].cax.colorbar(im4)\n",
    "grid[5].cax.colorbar(im5)\n",
    "def animate():\n",
    "    clear_output(wait=True)\n",
    "    im0.set_data(img_data_real[channel_slider.value])\n",
    "    im1.set_data(reconstructed_real[channel_slider.value])\n",
    "    im2.set_data(diff_img_real[channel_slider.value])\n",
    "    im3.set_data(img_data_imag[channel_slider.value])\n",
    "    im4.set_data(reconstructed_imag[channel_slider.value])\n",
    "    im5.set_data(diff_img_imag[channel_slider.value])\n",
    "    grid[0].cax.colorbar(im0)\n",
    "    grid[1].cax.colorbar(im1)\n",
    "    grid[2].cax.colorbar(im2)\n",
    "    grid[3].cax.colorbar(im3)\n",
    "    grid[4].cax.colorbar(im4)\n",
    "    grid[5].cax.colorbar(im5)\n",
    "    plt.draw()\n",
    "    display(F)\n",
    "channel_slider.on_trait_change(animate, 'value')\n",
    "display(channel_slider)"
   ]
  },
  {
   "cell_type": "code",
   "execution_count": null,
   "metadata": {
    "collapsed": true
   },
   "outputs": [],
   "source": []
  },
  {
   "cell_type": "code",
   "execution_count": null,
   "metadata": {
    "collapsed": true
   },
   "outputs": [],
   "source": []
  }
 ],
 "metadata": {
  "kernelspec": {
   "display_name": "Python 2",
   "language": "python",
   "name": "python2"
  },
  "language_info": {
   "codemirror_mode": {
    "name": "ipython",
    "version": 2
   },
   "file_extension": ".py",
   "mimetype": "text/x-python",
   "name": "python",
   "nbconvert_exporter": "python",
   "pygments_lexer": "ipython2",
   "version": "2.7.6"
  },
  "widgets": {
   "state": {
    "00c5a3f82de341268f6cb838444a39fc": {
     "views": []
    },
    "014c24ea51d24b389ac2c1bd1c337fee": {
     "views": []
    },
    "01c2eef5ce5943f6bc57e2cd0919af16": {
     "views": []
    },
    "043a4268c38d4b49a4e6ceba88ca7cb5": {
     "views": []
    },
    "046cbb2f5375423d9ad0e9964eee348f": {
     "views": []
    },
    "04779bea046544d08284bae699d1586e": {
     "views": []
    },
    "049e20aee6124f328a4e4dd50cce43c9": {
     "views": []
    },
    "07ec18d85e75443290aa51454b693956": {
     "views": []
    },
    "08acb1217ed34754bd333d1f68bc7c47": {
     "views": []
    },
    "092181e20c0c4994a23cea55fe002769": {
     "views": []
    },
    "09446d96c725464ba1042798891e0b02": {
     "views": []
    },
    "0afa014b70f94f6691e2be0bdeac492f": {
     "views": []
    },
    "0b24f23bc5e94262b8664dfaad0a6d98": {
     "views": []
    },
    "0b2cfb624483490fa8dea9fc85cba8b7": {
     "views": []
    },
    "0bd99ba622064065ae29a9002c76b000": {
     "views": []
    },
    "0c057097deb5414aaed4a543980eefa6": {
     "views": []
    },
    "0d7d3ec686c447bea3b18b3eeb3804f7": {
     "views": []
    },
    "0e04df9add9f44598fc9dce4d13dff0a": {
     "views": []
    },
    "0f125f1343ae4e7682b3ec4b103d17e0": {
     "views": []
    },
    "11b566acd88543dc8faf347dcb1aa8d9": {
     "views": []
    },
    "12bfde89fa784e329c67cff337ded7a6": {
     "views": []
    },
    "13045a68fb254f109a59fe16f1cc04f4": {
     "views": []
    },
    "1434b77a61a04faa996763302f7bd58e": {
     "views": []
    },
    "1492bb63df8a4f998d6460bf28ad2912": {
     "views": []
    },
    "149c2f1043cb4123b25ca480524e2303": {
     "views": []
    },
    "14af3fae60314711bdfb3a289b9be206": {
     "views": []
    },
    "150be5ca07714fa4b47183dc7e553a86": {
     "views": []
    },
    "150fd2811a9e4fa086d1486507a601fe": {
     "views": []
    },
    "15f7ada610244fbab6365689c95ff688": {
     "views": []
    },
    "1742ec63cebd4e17816dd8b1b5eab306": {
     "views": []
    },
    "176769b894774fae8cbd5902cf22a0e1": {
     "views": []
    },
    "1775d11e089b41e4acb3cc467e49f744": {
     "views": []
    },
    "17f37b0df7ef47f1a328d5f8f7e8e79a": {
     "views": []
    },
    "18125dc26bfe486b92c8086c8d3e1baf": {
     "views": []
    },
    "185d59819f754c9cab68f42388fad994": {
     "views": []
    },
    "1902d9ad8ab3404bbf02ecea3a66742c": {
     "views": []
    },
    "197548e8116f44fcb3233175357952fa": {
     "views": []
    },
    "19b4441ca695435cb12902015c6d755b": {
     "views": []
    },
    "19c122059a454892a50f135130d46ceb": {
     "views": []
    },
    "19cd6da788f64066bdbdeccf8dfbe535": {
     "views": []
    },
    "19e04965f1204e24a10beb99ddb93d5e": {
     "views": []
    },
    "1a64a6689cca4940a19cd89d0c1aa6df": {
     "views": []
    },
    "1b0882b480eb49a4be05892c18c9d684": {
     "views": []
    },
    "1b88123c28fa412ea4796c578ebc2466": {
     "views": []
    },
    "1c3830c3894340a0a9e79ceffd8c4c58": {
     "views": []
    },
    "1dc65ba188ab4bb9945873dd5fea38c0": {
     "views": []
    },
    "1e7fbe517ab34b3485e1a65e01f74011": {
     "views": []
    },
    "1fe1fcb12cb24f9ea14033c269a8d597": {
     "views": []
    },
    "20d4072883884d73a6ed7d15c63ac4d7": {
     "views": []
    },
    "227800f4dcd94b75991f7bd266320dc0": {
     "views": []
    },
    "22789da96b5043d3ad1a316441c6c8cb": {
     "views": []
    },
    "22b34d30eb994c0993d08ade57f3bf63": {
     "views": []
    },
    "2396e256017c4fe093c8ae9a1bc290df": {
     "views": []
    },
    "246d6d8a86dd4e828a1a20e4e9361407": {
     "views": []
    },
    "24caa9cb0d3d419fa8dea3307d6f1bb0": {
     "views": []
    },
    "25fa10faa1414e0eadfee517e2647b10": {
     "views": []
    },
    "27fe312a857545dd95c4cc904b052704": {
     "views": []
    },
    "28e986a66ce84be7803e57a5b7c46489": {
     "views": []
    },
    "2b288b7f467f4f958ba455535d2ceeee": {
     "views": []
    },
    "2b31417b26ea44fda4e3f393a65d4e01": {
     "views": []
    },
    "2c007f2ec37744948b2cf1c0ab95058e": {
     "views": []
    },
    "2c57bcc460fb4546a24dcea78ea45684": {
     "views": []
    },
    "2d04252deb844b3094549c8b798a9ea3": {
     "views": []
    },
    "2dbc6e9ca77a43ac80bfd7fd1dd33302": {
     "views": []
    },
    "2e7b15c416334bdcb1629ac0e01cc977": {
     "views": []
    },
    "2f932639ffb24e7394b21685a827876a": {
     "views": []
    },
    "319d0c2a7cde41538289873d558bebb1": {
     "views": []
    },
    "325d3cfc82df4634be402a237bbe9472": {
     "views": []
    },
    "326dba11a1e842aebc45f5e580c6a941": {
     "views": []
    },
    "32f63ae9a29d4b4a8b90884c727046df": {
     "views": []
    },
    "34e2f1b64a2a470b8db3d94132d0edf4": {
     "views": []
    },
    "35788cc22c1b43c8a3bf70656cbf6a7b": {
     "views": []
    },
    "364504e831d14864891b8f6543167ff2": {
     "views": []
    },
    "369e4113986f4a568fcc38ae5a3b4eb6": {
     "views": []
    },
    "3835c8ab8d8443158c85f715f489f849": {
     "views": []
    },
    "3919cd9a99474e8e809b39b03369bb74": {
     "views": []
    },
    "392046bfdd654f50888671ceb537efa4": {
     "views": []
    },
    "3b254bfada6b482fb4bdb1130e3f3966": {
     "views": []
    },
    "3c4b8b0370294bb68f3a23ef1616414c": {
     "views": []
    },
    "3dfa7e218f4a4921978dea2dd5f7bcd5": {
     "views": []
    },
    "3e8ee45301c34990bbccb94afe1a2446": {
     "views": []
    },
    "3f81814f93344f3e8bb52d435535c080": {
     "views": []
    },
    "3fea16c641aa4824ad38772b28258a4f": {
     "views": []
    },
    "420213b9308e4762bf1a360d59a7a1bc": {
     "views": []
    },
    "4228d7810a70488cb24b9cbeae0c7276": {
     "views": []
    },
    "4230124d956a4417989eaf383a6f2a69": {
     "views": []
    },
    "4687cbbed0564c4db549d66140863fa2": {
     "views": []
    },
    "4754aeeef92e48579caac20a1457364a": {
     "views": []
    },
    "47c5faf7367343ea8e834d841a9da8dd": {
     "views": []
    },
    "49a51180670b4013809848018febe4fe": {
     "views": []
    },
    "4a686ef2545c4981a3f2d5d87a3d488b": {
     "views": []
    },
    "4c5fa443e5b14bfc9f5e07bdeeaad24e": {
     "views": []
    },
    "4c601d9c85944d778cfa5b48fb0d1e9a": {
     "views": []
    },
    "4cbf887f1e57456896239b0de0d2aa85": {
     "views": []
    },
    "4d726e59f1914cfc822bd425d9d9f927": {
     "views": []
    },
    "4e6a6eb387494e10b0fcfe575c13cac7": {
     "views": []
    },
    "4ec2cc62c8ff489d95147258ef0cd8f5": {
     "views": []
    },
    "4fb6f028c5fc4f049ea3a6f4e35c4604": {
     "views": []
    },
    "4fe59ddbf1df4b2b927e0a776c87d92f": {
     "views": []
    },
    "527c8ef959bd4f66adbd7238e4938daf": {
     "views": []
    },
    "53239e86ed9d46be81568fcf7d93ce05": {
     "views": []
    },
    "5803b9766b504bffbecd3485a1669903": {
     "views": []
    },
    "592abb49464a478b97ed3ced7f3ef530": {
     "views": []
    },
    "5aad9e52e0494c1cac7c223e17af9fe6": {
     "views": []
    },
    "5bb6477b58ac4d73be413723c532c3bd": {
     "views": []
    },
    "615f71ba172d472b95a03911d224a7c1": {
     "views": []
    },
    "61eef54c12a441e8b756cf966455783d": {
     "views": []
    },
    "6259c50548cd4d34a31f2e84901e19dd": {
     "views": []
    },
    "62fa5c21084f439bbfa709c36461e309": {
     "views": []
    },
    "6461851abbc84ace80cce009cd7e52b5": {
     "views": []
    },
    "65cf6a35472b44f7adbc5c70b9b37b8d": {
     "views": []
    },
    "67494f5c5ac3499fb1187717e1c001b3": {
     "views": []
    },
    "68032640aa4841efbed0cfe3889e8873": {
     "views": []
    },
    "689721efff6d4722b42b6b14d1234e0b": {
     "views": []
    },
    "696ea13945b9470d84218113f1633c87": {
     "views": []
    },
    "69afb14c0970455883ed8291750fdf03": {
     "views": []
    },
    "69ebe297d7484abeba6940aa59a6f278": {
     "views": []
    },
    "6a0b7ccd12f34bdda800d4312c6916f3": {
     "views": []
    },
    "6a109456ac9548d9afc90cbc9d9ad4ab": {
     "views": []
    },
    "6a2bccb2dd6a41ff936085425a13d8c1": {
     "views": []
    },
    "6a73901d049441759b09d88e4c583a96": {
     "views": []
    },
    "6b998d8ad3c34ed8aef346a4845f7335": {
     "views": []
    },
    "6bac7c5a4a2141289ef8f3b3e9c6e02a": {
     "views": []
    },
    "6c87ecb0ca6243bea4a4a2617dca0af2": {
     "views": []
    },
    "6cd718a216444c6299b8a88d1b3071c4": {
     "views": []
    },
    "6d41f2522cdf432a91f3e583ddad666d": {
     "views": []
    },
    "6d9f38cf6da04c71877a2813cd67766d": {
     "views": []
    },
    "6ed71d4edbd64bc6b9b4b727039d985d": {
     "views": []
    },
    "7067ca36ff6d487da279377dd2906297": {
     "views": []
    },
    "71b243ecf42b483ea8e599906042a908": {
     "views": []
    },
    "7376f55f56714ba8b23f348cfa6406a0": {
     "views": []
    },
    "757bcde54e0b49f689261a685eb16f52": {
     "views": []
    },
    "759eff0941694080b6839d9733852070": {
     "views": []
    },
    "75cebddca5e74545921a8b7593788883": {
     "views": []
    },
    "7612fdf8c1a747fb8020033a03b54d36": {
     "views": []
    },
    "7654db50d97348d3b21ae4730cde76ca": {
     "views": []
    },
    "79854cb03ea44514b1cf20239927c124": {
     "views": []
    },
    "799e5788ef6b4a4f9403467de6e26033": {
     "views": []
    },
    "7ae492fbe2bf470dbe6135c9595f379d": {
     "views": []
    },
    "7e78d9e1e11247c5bc7c7c1000e4d955": {
     "views": []
    },
    "7fa7e123f37f4177bb4b37128b830193": {
     "views": []
    },
    "7ff79ae4973b43e9a1b07fc761eb447a": {
     "views": []
    },
    "80864516b9574f87a29b820c0ea8fdb4": {
     "views": []
    },
    "80a1a00ef4384949a49918e6d0369b64": {
     "views": []
    },
    "8133467fe6d6431bb02053db9b94d21e": {
     "views": []
    },
    "81e1acdfc316406a8906511f34712cb0": {
     "views": []
    },
    "8482d6140a52428eba93e5c132a2b9f9": {
     "views": []
    },
    "84c6a916ada04246b78e9671921c986d": {
     "views": []
    },
    "8637b82320d04896ba12588328b1cecd": {
     "views": []
    },
    "89051194dbb441cdb38f886cb3613b76": {
     "views": []
    },
    "896698236ce441f0bc116392049f0432": {
     "views": []
    },
    "8a22af27b6b6442d833155518a93c358": {
     "views": []
    },
    "8b410b19e4ea4402b5541e6969ca2ea5": {
     "views": []
    },
    "8b686488eb0840058801d88756a30282": {
     "views": []
    },
    "8bafc401697b4b528009295bfe515f79": {
     "views": []
    },
    "8bdbbe0c17f34ee6bac9403190b1cdb0": {
     "views": []
    },
    "8cb4f7d87a3243fdb0f7b1bcb5ada303": {
     "views": []
    },
    "9034f282da5b410692bf5ad8fd5f3ef4": {
     "views": []
    },
    "90c7ab9e42814a049ddf1bc02079c734": {
     "views": []
    },
    "913396bad50948b4ac23ab3f390f8160": {
     "views": []
    },
    "923d667b60b74dc690ba0042b7fa891e": {
     "views": []
    },
    "9293955ca82f4f11878c72f46abcc098": {
     "views": []
    },
    "92f3cb70d0c4481eb0cc738422188f3d": {
     "views": []
    },
    "9479e3c72bde4f79813bcda5ec7d60d2": {
     "views": []
    },
    "952680f06d1a4c438e494f916ac29482": {
     "views": []
    },
    "9552dd12c22f481ea5518928b81b06fc": {
     "views": []
    },
    "956de74dcb804d5589dcde5f9ed6dd64": {
     "views": []
    },
    "958c65e056a544188fd718ead25dfd36": {
     "views": []
    },
    "95a220eab70b4a489127dc7fe5e73cd2": {
     "views": []
    },
    "96077ba1f7e84599820f56285975f670": {
     "views": []
    },
    "964f28f217324efca83a01129a342539": {
     "views": []
    },
    "97c398eab2b7413180f854c102fca09e": {
     "views": []
    },
    "97da8b6219e746268bb8895b1db9ae79": {
     "views": []
    },
    "982b374c1ee541e3964acc5b4e1f4b91": {
     "views": []
    },
    "98b633db578a4b7cbf7cf6167c03ebfc": {
     "views": []
    },
    "9a99cd4e32cd4014a4c81a6c788e8d1e": {
     "views": []
    },
    "9bb34ae0204b4275842fac5d78bc4ea4": {
     "views": []
    },
    "9bc0f848d8f64d52a555044881218c8c": {
     "views": []
    },
    "9c95d6be1d3e4b3484ab79912194e90b": {
     "views": []
    },
    "9cad4c936cb547c38dbd6da354c3bf48": {
     "views": []
    },
    "9d4f161e96ea4fa2b8f0c4ade0b7b91b": {
     "views": []
    },
    "9f52a90de1774a188d7938941ed3554c": {
     "views": []
    },
    "a051f9a5645b447d9bccfe87eee666d5": {
     "views": []
    },
    "a15058cb94254bae8cedd4d027df943a": {
     "views": []
    },
    "a1e35d7987e644c7b202c4ca2997a238": {
     "views": []
    },
    "a203012a928e45a1904b33a3f16a437d": {
     "views": []
    },
    "a269f88bfa5d473083fb95b7cd3f95e9": {
     "views": []
    },
    "a30c0ca00a3d48fbb748ddf068476d74": {
     "views": []
    },
    "a4f16e63998b449e871212c6272ae690": {
     "views": []
    },
    "a6edc23de03243bb9b6e54f8828b3a8c": {
     "views": []
    },
    "a8d352ccb46d45c0b5cac268400bf866": {
     "views": []
    },
    "a98278e4423a4a88b88a98d8e528c98e": {
     "views": []
    },
    "a9e3a4be59714c0d8ad54d80f0718315": {
     "views": []
    },
    "ab4daf64256548249406beae25bf312e": {
     "views": []
    },
    "ad20ff6ed2e24dfda8aeb53887c49b98": {
     "views": []
    },
    "ad39cfb51f9e4b53b9c174bc06e4cb14": {
     "views": []
    },
    "b008cfa964f24924881c54091a5c947e": {
     "views": []
    },
    "b00cbbe516a14e56a7f323376d3a03c2": {
     "views": []
    },
    "b13fba4355b34854b5eee0e6a882031f": {
     "views": []
    },
    "b236762625d84825967bf840ca81afe0": {
     "views": []
    },
    "b25859f8caa84e8db0cc281b4849727e": {
     "views": []
    },
    "b50d6f3b84554e11bbb581416c393de5": {
     "views": []
    },
    "b5b7f1d17678485cb6ed2413cd7e98ad": {
     "views": [
      {
       "cell_index": 5
      }
     ]
    },
    "b6905d536c6d4bafb87ecafd673eefa6": {
     "views": []
    },
    "b6b9714a7a5343058077ae1761065998": {
     "views": []
    },
    "b6ed97fdd42e48668cf875cf15a0c7ce": {
     "views": []
    },
    "b779c50152aa4bbbbb20ae3664bf5a2f": {
     "views": []
    },
    "b8caaade853d4fce99afbe40b8993ab8": {
     "views": []
    },
    "bab5668939d84a18b20134d662b856ca": {
     "views": []
    },
    "bbd208d2c65a46e3955742ab4c2acc54": {
     "views": []
    },
    "bcf662568c1f43b09e80890de439e53a": {
     "views": []
    },
    "bcf7ae575194481aae05480dc1e96973": {
     "views": []
    },
    "bda18a2d15fd40d3a8086d1bbe4a4c58": {
     "views": []
    },
    "be20811e576147e3b00346060a7d5b4c": {
     "views": []
    },
    "bffecd13d4f3479b8d1ac5b30c766c55": {
     "views": []
    },
    "c0a119174e8443528fbfbd267dc6a7dc": {
     "views": []
    },
    "c11fc8da328f4756a17f97edffff738e": {
     "views": []
    },
    "c2b614a87dc14b08b74d926b41850c34": {
     "views": []
    },
    "c3b478e43add4fcfb3bc30efe4874a10": {
     "views": []
    },
    "c6c5d374123d48158e24f9cc7860d5a8": {
     "views": []
    },
    "c6f20e74f4504e30b39b5e0919dee824": {
     "views": []
    },
    "c95a3947957449288737bb4173aff978": {
     "views": []
    },
    "cad76ccfc2ce466f9dfbbd5fcfbf3e83": {
     "views": []
    },
    "cadb9cd76897473eb9d2e398e1b86998": {
     "views": []
    },
    "cb197010c4b84cb485d71f99a4c79047": {
     "views": []
    },
    "cb5d4949e7e5485dabdb1bb8f6c37a93": {
     "views": []
    },
    "cbf2424424384f2da6de0addb94e9232": {
     "views": []
    },
    "cc3b25d8954c4850a0e5726402bd42eb": {
     "views": []
    },
    "cfa70657cf5546deae6e29fc38a473c9": {
     "views": []
    },
    "cfb056054b304775abdf4785961d8ddd": {
     "views": []
    },
    "cfb4a96463bd4fcbbe706028914d087b": {
     "views": []
    },
    "d0ba900591f74d21b34244476da64e97": {
     "views": []
    },
    "d10f4236f8d141edb29d5a56e65acef8": {
     "views": []
    },
    "d1961361c3bd4c9e824fb5114c78f8fb": {
     "views": []
    },
    "d22a8d54d7e24a1cb65e91fb40e638e1": {
     "views": []
    },
    "d400dc89ab124fe6afa77d6082b443d0": {
     "views": []
    },
    "d5b26affe8a24da684d7ba121051437c": {
     "views": []
    },
    "d5d7fc784ca84601aa7444459a0252dc": {
     "views": []
    },
    "d5d87bfeaa7a43b0a2e86f449b8d056e": {
     "views": []
    },
    "d86cff9477844c24bc8a91eafbde9021": {
     "views": []
    },
    "d894463503b545acaaef93b4001b7678": {
     "views": []
    },
    "d9bb71e221764251adb6bb4473fb2866": {
     "views": []
    },
    "d9ccbe018ad140d1a39645ff69364cb3": {
     "views": []
    },
    "da3126027411414982148862f65afa78": {
     "views": []
    },
    "da53392de33c47579423148275c26865": {
     "views": []
    },
    "dbbb219dc27f4007ad23ee9f7280cd08": {
     "views": [
      {
       "cell_index": 4
      }
     ]
    },
    "dbff5accfff2402a894cdc0b54eaea45": {
     "views": []
    },
    "dddb71f39784408b9d52c523f1e0e385": {
     "views": []
    },
    "df550063e4ed4cc68e4b0b05a25e82a8": {
     "views": []
    },
    "e32ea1f0cefc43a7abfde96795eb8baf": {
     "views": []
    },
    "e3b907402f13421ea75d2434f72db0ae": {
     "views": []
    },
    "e3f3677378be4646ac5318fc1c9f29ac": {
     "views": []
    },
    "e83f98326b364df8b621a362661ba7d3": {
     "views": [
      {
       "cell_index": 6
      }
     ]
    },
    "e9e7dfe9dbc040b2b2e53e7b2e9077f7": {
     "views": []
    },
    "e9f44c17ca8e4aa181aecf92b13ebea4": {
     "views": []
    },
    "e9ffaf2aa41c4144b64025b5484664f7": {
     "views": []
    },
    "eccbc82183094377acab5fb68446af14": {
     "views": []
    },
    "ee0ac9adb3ff47dca4eb7bf53c8961df": {
     "views": []
    },
    "ee518dc68c2641438d4147f7e4d3907f": {
     "views": []
    },
    "f0445107b4c64d7aa406c589b0e21d4a": {
     "views": []
    },
    "f1eb9ec9f6d94c09921fe4c714d52c65": {
     "views": []
    },
    "f25d8f99950446759de52d020966a2c3": {
     "views": []
    },
    "f315a22665fb4f279a44e8c1035e6b62": {
     "views": []
    },
    "f33eba90ecef40b7862595e03c349677": {
     "views": []
    },
    "f439c779cd0044f6bc1669e50953a3c0": {
     "views": []
    },
    "f501180f7cdc420a81614be30b3243ea": {
     "views": []
    },
    "f88d1ae61fdd4796b4f980ee3b7e0b64": {
     "views": []
    },
    "f99c03267ec54c47aae5d2e5fff9684d": {
     "views": []
    },
    "fad4679660324e07a596d85a452c082c": {
     "views": []
    },
    "fb97411a680344e390d3b6e559d2f4b0": {
     "views": []
    },
    "fbcdee3f5ea840e1b7db2e2e24675aa4": {
     "views": []
    },
    "fd849837b0474666b8f895747b8286eb": {
     "views": []
    },
    "ff70b5747ec94f0e92c15fc7faf2b62d": {
     "views": []
    },
    "ffb9d0924592484b8a4d7fa9e62dc198": {
     "views": []
    }
   },
   "version": "1.1.1"
  }
 },
 "nbformat": 4,
 "nbformat_minor": 0
}
